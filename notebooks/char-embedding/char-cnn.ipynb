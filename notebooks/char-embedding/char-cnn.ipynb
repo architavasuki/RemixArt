{
 "cells": [
  {
   "cell_type": "code",
   "execution_count": 1,
   "metadata": {},
   "outputs": [],
   "source": [
    "import numpy as np\n",
    "import torch\n",
    "import torch.nn as nn\n",
    "from torch.utils.data import Dataset\n",
    "import sys\n",
    "import pickle\n",
    "import nltk\n",
    "from nltk.corpus import stopwords\n",
    "from torch.utils.data import DataLoader\n",
    "\n",
    "sys.path.append('..')\n",
    "# nltk.download('stopwords')"
   ]
  },
  {
   "cell_type": "code",
   "execution_count": 95,
   "metadata": {},
   "outputs": [],
   "source": [
    "def load(filename) -> 'Any':\n",
    "    with open(filename,'rb') as file:\n",
    "        return pickle.load(file)\n",
    "\n",
    "args = load('../config.p')"
   ]
  },
  {
   "cell_type": "code",
   "execution_count": 96,
   "metadata": {},
   "outputs": [
    {
     "output_type": "execute_result",
     "data": {
      "text/plain": "'We are training our model on CUB dataset. CUB contains 200 bird species with 11,788 images. Since 80% of birds in this dataset have object-image size ratios of less than 0.5, as a pre-processing step, we crop all images to ensure that bounding boxes of birds have greater-than-0.75 object-image size ratios.'"
     },
     "metadata": {},
     "execution_count": 96
    }
   ],
   "source": [
    "text = '''We are training our model on CUB dataset. CUB contains 200 bird species with 11,788 images. Since 80% of birds in this dataset have object-image size ratios of less than 0.5, as a pre-processing step, we crop all images to ensure that bounding boxes of birds have greater-than-0.75 object-image size ratios.'''\n",
    "text"
   ]
  },
  {
   "cell_type": "code",
   "execution_count": 97,
   "metadata": {},
   "outputs": [],
   "source": [
    "params = {\"batch_size\": args.batch_size,\n",
    "                       \"shuffle\": True,\n",
    "                       \"num_workers\": args.workers,}"
   ]
  },
  {
   "cell_type": "code",
   "execution_count": 98,
   "metadata": {
    "tags": []
   },
   "outputs": [],
   "source": [
    "vocab = \"abcdefghijklmnopqrstuvwxyz0123456789-,;.!?:'\\\"/\\\\|_@#$%^&*~`+ =<>()[]{}\\n\""
   ]
  },
  {
   "cell_type": "code",
   "execution_count": 99,
   "metadata": {
    "tags": []
   },
   "outputs": [],
   "source": [
    "class TextDataset(Dataset):\n",
    "\n",
    "    def __init__(self, texts, labels, args):\n",
    "        self.vocab = args.vocab\n",
    "        self.max_len = args.max_length\n",
    "\n",
    "        self.length = len(texts)\n",
    "        self.texts = texts\n",
    "        self.labels = labels\n",
    "        self.identity = np.eye(len(self.vocab))\n",
    "\n",
    "    def __len__(self):\n",
    "        return self.length\n",
    "\n",
    "    def preprocess(self,text):\n",
    "        text = text.lower()\n",
    "        word_token = nltk.word_tokenize(text)\n",
    "        word_token = [word for word in word_token if word not in set(stopwords.words('english'))]\n",
    "        return ''.join(word_token)\n",
    "\n",
    "    def __getitem__(self,index):\n",
    "        raw_text = self.preprocess(self.texts[index])\n",
    "\n",
    "        data = np.array([self.identity[self.vocab.index(char)] for char in raw_text if char in self.vocab],\n",
    "                        dtype=np.float64)\n",
    "        if len(data) > self.max_len:\n",
    "            data = data[:self.max_len]\n",
    "        elif 0 < len(data) < self.max_len:\n",
    "            data = np.concatenate(\n",
    "                (data, np.zeros((self.max_len - len(data), len(self.vocab)), dtype=np.float64)))\n",
    "        elif len(data) == 0:\n",
    "            data = np.zeros(\n",
    "                (self.max_len, len(self.vocab)), dtype=np.float64)\n",
    "\n",
    "        label = self.labels[index]\n",
    "        data = torch.Tensor(data)\n",
    "\n",
    "        return data, label\n"
   ]
  },
  {
   "cell_type": "code",
   "execution_count": 100,
   "metadata": {},
   "outputs": [],
   "source": [
    "dataset = TextDataset([text,text[::-1]], [1,2],args)"
   ]
  },
  {
   "cell_type": "code",
   "execution_count": 101,
   "metadata": {},
   "outputs": [],
   "source": [
    "dataloader = DataLoader(dataset,**params)"
   ]
  },
  {
   "cell_type": "code",
   "execution_count": 143,
   "metadata": {},
   "outputs": [],
   "source": [
    "def weights_init_uniform(m,mean=0.0,var=0.05):\n",
    "    classname = m.__class__.__name__\n",
    "    # for every Linear layer in a model..\n",
    "    if classname.find('Linear') != -1:\n",
    "        # apply a uniform distribution to the weights and a bias=0\n",
    "        m.weight.data.uniform_(mean, var)\n",
    "        m.bias.data.fill_(0)"
   ]
  },
  {
   "cell_type": "code",
   "execution_count": 144,
   "metadata": {},
   "outputs": [],
   "source": [
    "class CharCNN(nn.Module):\n",
    "    def __init__(self):\n",
    "        super(CharCNN,self).__init__()\n",
    "\n",
    "        self.model = nn.Sequential(\n",
    "\n",
    "                        nn.Conv1d(len(args.vocab), 256, kernel_size=7, padding=0),\n",
    "                        nn.ReLU(),\n",
    "                        nn.MaxPool1d(3),\n",
    "                        nn.Conv1d(256, 256, kernel_size=7, padding=0),\n",
    "                        nn.ReLU(),\n",
    "                        nn.MaxPool1d(3),\n",
    "                        nn.Conv1d(256, 256, kernel_size=3, padding=0),\n",
    "                        nn.ReLU(),\n",
    "                        nn.Conv1d(256, 256, kernel_size=3, padding=0),\n",
    "                        nn.ReLU(),\n",
    "                        nn.Conv1d(256, 256, kernel_size=3, padding=0),\n",
    "                        nn.ReLU(),\n",
    "                        nn.Conv1d(256, 256, kernel_size=3, padding=0),\n",
    "                        nn.ReLU(),\n",
    "                        nn.MaxPool1d(3),\n",
    "                        nn.Flatten(),\n",
    "                        nn.Linear(256*34,1024),\n",
    "                        nn.ReLU(),\n",
    "                        nn.Dropout(0.5),\n",
    "                        nn.Linear(1024, 1024),\n",
    "                        nn.ReLU(),\n",
    "                        nn.Dropout(0.5)\n",
    "        )\n",
    "\n",
    "    def forward(self,x):\n",
    "        return self.model(x)"
   ]
  },
  {
   "cell_type": "code",
   "execution_count": 145,
   "metadata": {},
   "outputs": [
    {
     "output_type": "execute_result",
     "data": {
      "text/plain": "CharCNN(\n  (model): Sequential(\n    (0): Conv1d(70, 256, kernel_size=(7,), stride=(1,))\n    (1): ReLU()\n    (2): MaxPool1d(kernel_size=3, stride=3, padding=0, dilation=1, ceil_mode=False)\n    (3): Conv1d(256, 256, kernel_size=(7,), stride=(1,))\n    (4): ReLU()\n    (5): MaxPool1d(kernel_size=3, stride=3, padding=0, dilation=1, ceil_mode=False)\n    (6): Conv1d(256, 256, kernel_size=(3,), stride=(1,))\n    (7): ReLU()\n    (8): Conv1d(256, 256, kernel_size=(3,), stride=(1,))\n    (9): ReLU()\n    (10): Conv1d(256, 256, kernel_size=(3,), stride=(1,))\n    (11): ReLU()\n    (12): Conv1d(256, 256, kernel_size=(3,), stride=(1,))\n    (13): ReLU()\n    (14): MaxPool1d(kernel_size=3, stride=3, padding=0, dilation=1, ceil_mode=False)\n    (15): Flatten()\n    (16): Linear(in_features=8704, out_features=1024, bias=True)\n    (17): ReLU()\n    (18): Dropout(p=0.5, inplace=False)\n    (19): Linear(in_features=1024, out_features=1024, bias=True)\n    (20): ReLU()\n    (21): Dropout(p=0.5, inplace=False)\n  )\n)"
     },
     "metadata": {},
     "execution_count": 145
    }
   ],
   "source": [
    "net = CharCNN()\n",
    "net.apply(weights_init_uniform)"
   ]
  },
  {
   "cell_type": "code",
   "execution_count": 146,
   "metadata": {},
   "outputs": [
    {
     "output_type": "execute_result",
     "data": {
      "text/plain": "torch.Size([2, 1024])"
     },
     "metadata": {},
     "execution_count": 146
    }
   ],
   "source": [
    "net(x[0].view(-1,70,1024)).shape"
   ]
  },
  {
   "cell_type": "code",
   "execution_count": null,
   "metadata": {},
   "outputs": [],
   "source": []
  }
 ],
 "metadata": {
  "language_info": {
   "codemirror_mode": {
    "name": "ipython",
    "version": 3
   },
   "file_extension": ".py",
   "mimetype": "text/x-python",
   "name": "python",
   "nbconvert_exporter": "python",
   "pygments_lexer": "ipython3",
   "version": "3.7.7-final"
  },
  "orig_nbformat": 2,
  "kernelspec": {
   "name": "python37764bitremixartconda754be6cf19a94920834a6bc6331bcd85",
   "display_name": "Python 3.7.7 64-bit ('RemixArt': conda)"
  }
 },
 "nbformat": 4,
 "nbformat_minor": 2
}