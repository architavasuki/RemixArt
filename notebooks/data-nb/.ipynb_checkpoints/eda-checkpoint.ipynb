{
 "cells": [
  {
   "cell_type": "code",
   "execution_count": 48,
   "metadata": {},
   "outputs": [],
   "source": [
    "import pandas as pd\n",
    "import numpy as np\n",
    "import requests\n",
    "import hashlib\n",
    "from PIL import Image"
   ]
  },
  {
   "cell_type": "code",
   "execution_count": 3,
   "metadata": {},
   "outputs": [],
   "source": [
    "trial = pd.read_csv('MSD-I_dataset.tsv',sep='\\t')"
   ]
  },
  {
   "cell_type": "code",
   "execution_count": 4,
   "metadata": {
    "tags": []
   },
   "outputs": [
    {
     "output_type": "stream",
     "name": "stdout",
     "text": "<class 'pandas.core.frame.DataFrame'>\nRangeIndex: 30713 entries, 0 to 30712\nData columns (total 6 columns):\n #   Column         Non-Null Count  Dtype \n---  ------         --------------  ----- \n 0   msd_track_id   30713 non-null  object\n 1   genre          30713 non-null  object\n 2   album_index    30713 non-null  int64 \n 3   set            30713 non-null  object\n 4   msd_artist_id  30713 non-null  object\n 5   image_url      30713 non-null  object\ndtypes: int64(1), object(5)\nmemory usage: 1.4+ MB\n"
    }
   ],
   "source": [
    "trial.info()"
   ]
  },
  {
   "cell_type": "code",
   "execution_count": 5,
   "metadata": {},
   "outputs": [
    {
     "output_type": "execute_result",
     "data": {
      "text/plain": "(            msd_track_id\n genre                   \n Blues                825\n Country             1778\n Electronic          4801\n Folk                1144\n Jazz                2671\n Latin                550\n Metal               2617\n New Age              265\n Pop                 3429\n Punk                 713\n Rap                 2674\n Reggae              1700\n RnB                 1836\n Rock                5213\n World                497,\n              msd_track_id\n album_index              \n 0                       5\n 1                       1\n 2                       1\n 3                       1\n 4                       1\n ...                   ...\n 22366                   1\n 22367                   1\n 22368                   1\n 22374                   1\n 22375                   1\n \n [16753 rows x 1 columns])"
     },
     "metadata": {},
     "execution_count": 5
    }
   ],
   "source": [
    "trial.groupby('genre').agg({'msd_track_id':'count'}),trial.groupby(['album_index']).agg({'msd_track_id':'count'})"
   ]
  },
  {
   "cell_type": "code",
   "execution_count": 7,
   "metadata": {},
   "outputs": [],
   "source": [
    "album_image = trial.groupby(['album_index']).head(1)"
   ]
  },
  {
   "cell_type": "code",
   "execution_count": 8,
   "metadata": {},
   "outputs": [
    {
     "output_type": "execute_result",
     "data": {
      "text/plain": "array([['Metal',\n        'http://artwork-cdn.7static.com/static/img/sleeveart/00/008/487/0000848744_200.jpg'],\n       ['Rock',\n        'http://artwork-cdn.7static.com/static/img/sleeveart/00/004/765/0000476534_200.jpg'],\n       ['Rock',\n        'http://artwork-cdn.7static.com/static/img/sleeveart/00/000/623/0000062345_200.jpg'],\n       ...,\n       ['Electronic',\n        'http://artwork-cdn.7static.com/static/img/sleeveart/00/003/543/0000354319_200.jpg'],\n       ['Blues',\n        'http://artwork-cdn.7static.com/static/img/sleeveart/00/028/799/0002879900_200.jpg'],\n       ['Pop',\n        'http://artwork-cdn.7static.com/static/img/sleeveart/00/001/391/0000139188_200.jpg']],\n      dtype=object)"
     },
     "metadata": {},
     "execution_count": 8
    }
   ],
   "source": [
    "ai = album_image.loc[:,['genre','image_url']].to_numpy()\n",
    "ai"
   ]
  },
  {
   "cell_type": "code",
   "execution_count": 56,
   "metadata": {
    "tags": []
   },
   "outputs": [],
   "source": [
    "def scrapArt(album):\n",
    "\n",
    "    index = 0\n",
    "    r = requests.get(album[1])\n",
    "    if r.status_code != 200:\n",
    "        pass\n",
    "    img = io.BytesIO(r.content)\n",
    "    img = Image.open(img).convert('RGB')\n",
    "    if not os.path.isdir(album[0]):\n",
    "        os.mkdir(album[0])\n",
    "    with open(f'{album[0]}/{hashlib.sha1(r.content).hexdigest()[:10]}.jpg','wb') as f:\n",
    "        img.save(f,'JPEG',quality=100)\n"
   ]
  },
  {
   "cell_type": "code",
   "execution_count": null,
   "metadata": {},
   "outputs": [],
   "source": []
  }
 ],
 "metadata": {
  "language_info": {
   "codemirror_mode": {
    "name": "ipython",
    "version": 3
   },
   "file_extension": ".py",
   "mimetype": "text/x-python",
   "name": "python",
   "nbconvert_exporter": "python",
   "pygments_lexer": "ipython3",
   "version": "3.7.7-final"
  },
  "orig_nbformat": 2,
  "kernelspec": {
   "name": "python37764bitremixartconda754be6cf19a94920834a6bc6331bcd85",
   "display_name": "Python 3.7.7 64-bit ('RemixArt': conda)"
  }
 },
 "nbformat": 4,
 "nbformat_minor": 2
}