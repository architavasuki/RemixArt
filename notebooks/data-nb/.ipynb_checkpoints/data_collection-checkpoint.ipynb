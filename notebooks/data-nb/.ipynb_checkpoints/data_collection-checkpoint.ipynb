{
 "cells": [
  {
   "cell_type": "code",
   "execution_count": 3,
   "metadata": {},
   "outputs": [],
   "source": [
    "import pandas as pd\n",
    "import numpy as np\n",
    "import requests\n",
    "import hashlib\n",
    "from PIL import Image\n",
    "import multiprocessing\n",
    "import os\n",
    "import io"
   ]
  },
  {
   "cell_type": "code",
   "execution_count": 4,
   "metadata": {},
   "outputs": [],
   "source": [
    "data = pd.read_csv('album_image.csv')\n",
    "data = data.loc[:,['genre','image_url']].to_numpy()\n",
    "data = data.tolist()"
   ]
  },
  {
   "cell_type": "code",
   "execution_count": 5,
   "metadata": {},
   "outputs": [],
   "source": [
    "def scrapArt(album):\n",
    "    try:\n",
    "      r = requests.get(album[1])\n",
    "      if r.status_code != 200:\n",
    "          pass\n",
    "      img = io.BytesIO(r.content)\n",
    "      img = Image.open(img).convert('RGB')\n",
    "      if not os.path.isdir(f'images/{album[0]}'):\n",
    "          os.mkdir(f'images/{album[0]}')\n",
    "      with open(f'images/{album[0]}/{hashlib.sha1(r.content).hexdigest()[:10]}.jpg','wb') as f:\n",
    "          img.save(f,'JPEG',quality=100)\n",
    "    except:\n",
    "      pass\n"
   ]
  },
  {
   "cell_type": "code",
   "execution_count": 6,
   "metadata": {},
   "outputs": [],
   "source": [
    "pool = multiprocessing.Pool() \n",
    "pool = multiprocessing.Pool(processes=os.cpu_count())\n",
    "outputs = pool.map(scrapArt, data)"
   ]
  },
  {
   "cell_type": "code",
   "execution_count": null,
   "metadata": {},
   "outputs": [],
   "source": [
    "!zip -r albumart.zip images"
   ]
  }
 ],
 "metadata": {
  "kernelspec": {
   "display_name": "Python 3",
   "language": "python",
   "name": "python3"
  },
  "language_info": {
   "codemirror_mode": {
    "name": "ipython",
    "version": 3
   },
   "file_extension": ".py",
   "mimetype": "text/x-python",
   "name": "python",
   "nbconvert_exporter": "python",
   "pygments_lexer": "ipython3",
   "version": "3.7.6"
  }
 },
 "nbformat": 4,
 "nbformat_minor": 4
}
