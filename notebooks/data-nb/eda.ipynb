{
 "cells": [
  {
   "cell_type": "code",
   "execution_count": 3,
   "metadata": {},
   "outputs": [],
   "source": [
    "import pandas as pd\n",
    "import numpy as np\n",
    "import requests\n",
    "import hashlib\n",
    "from PIL import Image"
   ]
  },
  {
   "cell_type": "code",
   "execution_count": 4,
   "metadata": {
    "tags": []
   },
   "outputs": [
    {
     "output_type": "stream",
     "name": "stdout",
     "text": "<class 'pandas.core.frame.DataFrame'>\nRangeIndex: 30713 entries, 0 to 30712\nData columns (total 6 columns):\n #   Column         Non-Null Count  Dtype \n---  ------         --------------  ----- \n 0   msd_track_id   30713 non-null  object\n 1   genre          30713 non-null  object\n 2   album_index    30713 non-null  int64 \n 3   set            30713 non-null  object\n 4   msd_artist_id  30713 non-null  object\n 5   image_url      30713 non-null  object\ndtypes: int64(1), object(5)\nmemory usage: 1.4+ MB\n"
    }
   ],
   "source": [
    "trial = pd.read_csv('MSD-I_dataset.tsv',sep='\\t')\n",
    "trial.info()"
   ]
  },
  {
   "cell_type": "code",
   "execution_count": 62,
   "metadata": {
    "tags": []
   },
   "outputs": [
    {
     "output_type": "execute_result",
     "data": {
      "text/plain": "       Unnamed: 0        msd_track_id\n0               0  TRKKUDO128F14A8A44\n1               1  TRKKYOY128F426D61A\n2               2  TRKKYIR128F930D266\n3               3  TRKKHPB128F930B512\n4               4  TRKKHZL12903CF7617\n...           ...                 ...\n31029       31029  TRMMLGZ128F930ABBF\n31030       31030  TRMMNZV128F933A2D1\n31031       31031  TRMMNLJ128E07937A1\n31032       31032  TRMMNOW128F42557E3\n31033       31033  TRMMMQN128F4238509\n\n[31034 rows x 2 columns]",
      "text/html": "<div>\n<style scoped>\n    .dataframe tbody tr th:only-of-type {\n        vertical-align: middle;\n    }\n\n    .dataframe tbody tr th {\n        vertical-align: top;\n    }\n\n    .dataframe thead th {\n        text-align: right;\n    }\n</style>\n<table border=\"1\" class=\"dataframe\">\n  <thead>\n    <tr style=\"text-align: right;\">\n      <th></th>\n      <th>Unnamed: 0</th>\n      <th>msd_track_id</th>\n    </tr>\n  </thead>\n  <tbody>\n    <tr>\n      <th>0</th>\n      <td>0</td>\n      <td>TRKKUDO128F14A8A44</td>\n    </tr>\n    <tr>\n      <th>1</th>\n      <td>1</td>\n      <td>TRKKYOY128F426D61A</td>\n    </tr>\n    <tr>\n      <th>2</th>\n      <td>2</td>\n      <td>TRKKYIR128F930D266</td>\n    </tr>\n    <tr>\n      <th>3</th>\n      <td>3</td>\n      <td>TRKKHPB128F930B512</td>\n    </tr>\n    <tr>\n      <th>4</th>\n      <td>4</td>\n      <td>TRKKHZL12903CF7617</td>\n    </tr>\n    <tr>\n      <th>...</th>\n      <td>...</td>\n      <td>...</td>\n    </tr>\n    <tr>\n      <th>31029</th>\n      <td>31029</td>\n      <td>TRMMLGZ128F930ABBF</td>\n    </tr>\n    <tr>\n      <th>31030</th>\n      <td>31030</td>\n      <td>TRMMNZV128F933A2D1</td>\n    </tr>\n    <tr>\n      <th>31031</th>\n      <td>31031</td>\n      <td>TRMMNLJ128E07937A1</td>\n    </tr>\n    <tr>\n      <th>31032</th>\n      <td>31032</td>\n      <td>TRMMNOW128F42557E3</td>\n    </tr>\n    <tr>\n      <th>31033</th>\n      <td>31033</td>\n      <td>TRMMMQN128F4238509</td>\n    </tr>\n  </tbody>\n</table>\n<p>31034 rows × 2 columns</p>\n</div>"
     },
     "metadata": {},
     "execution_count": 62
    }
   ],
   "source": [
    "mimi = pd.read_csv('msd_track_id.csv')\n",
    "mimi"
   ]
  },
  {
   "cell_type": "code",
   "execution_count": 64,
   "metadata": {},
   "outputs": [],
   "source": [
    "x = trial.set_index('msd_track_id').join(mimi.set_index('msd_track_id'),lsuffix='_l', rsuffix='_r',how='inner')"
   ]
  },
  {
   "cell_type": "code",
   "execution_count": 65,
   "metadata": {},
   "outputs": [
    {
     "output_type": "execute_result",
     "data": {
      "text/plain": "                         genre  album_index    set       msd_artist_id  \\\nmsd_track_id                                                             \nTRQVZZU128F146EED9         Pop           48  train  AROVU6Z1187B9AE74E   \nTRFOXAG12903CFF23B       Metal           96  train  AR9EBE61187FB4BA7F   \nTRGOSCC128F42AC959  Electronic          131  train  ARB6OGR1187FB4D43D   \nTRRUKQW128F92DD945        Rock          376  train  ARPEC2W1187B98EC62   \nTRZVWIE128F4295ED6         Pop          572  train  AR3JMC51187B9AE49D   \n...                        ...          ...    ...                 ...   \nTRQKFUN128F148D01E  Electronic        21280   test  ARWOYNK1187FB3962B   \nTRKSWEI128F92ED8B0  Electronic        21365   test  ARONER11187FB3E442   \nTRRGDHC128F428C743         Pop        21436   test  ARCGBJ21187B98B083   \nTRBQUEE128F42B4FE8       Metal         6468   test  AREXKKO1187B9AC3AD   \nTRMFLQB12903CE56C2       Blues        22358   test  AR56P361187B9AC4DB   \n\n                                                            image_url  \\\nmsd_track_id                                                            \nTRQVZZU128F146EED9  http://artwork-cdn.7static.com/static/img/slee...   \nTRFOXAG12903CFF23B  http://artwork-cdn.7static.com/static/img/slee...   \nTRGOSCC128F42AC959  http://artwork-cdn.7static.com/static/img/slee...   \nTRRUKQW128F92DD945  http://artwork-cdn.7static.com/static/img/slee...   \nTRZVWIE128F4295ED6  http://artwork-cdn.7static.com/static/img/slee...   \n...                                                               ...   \nTRQKFUN128F148D01E  http://artwork-cdn.7static.com/static/img/slee...   \nTRKSWEI128F92ED8B0  http://artwork-cdn.7static.com/static/img/slee...   \nTRRGDHC128F428C743  http://artwork-cdn.7static.com/static/img/slee...   \nTRBQUEE128F42B4FE8  http://artwork-cdn.7static.com/static/img/slee...   \nTRMFLQB12903CE56C2  http://artwork-cdn.7static.com/static/img/slee...   \n\n                    Unnamed: 0  \nmsd_track_id                    \nTRQVZZU128F146EED9       14036  \nTRFOXAG12903CFF23B       17486  \nTRGOSCC128F42AC959       24651  \nTRRUKQW128F92DD945        9644  \nTRZVWIE128F4295ED6        9312  \n...                        ...  \nTRQKFUN128F148D01E       13149  \nTRKSWEI128F92ED8B0         936  \nTRRGDHC128F428C743       10535  \nTRBQUEE128F42B4FE8       26707  \nTRMFLQB12903CE56C2       30541  \n\n[781 rows x 6 columns]",
      "text/html": "<div>\n<style scoped>\n    .dataframe tbody tr th:only-of-type {\n        vertical-align: middle;\n    }\n\n    .dataframe tbody tr th {\n        vertical-align: top;\n    }\n\n    .dataframe thead th {\n        text-align: right;\n    }\n</style>\n<table border=\"1\" class=\"dataframe\">\n  <thead>\n    <tr style=\"text-align: right;\">\n      <th></th>\n      <th>genre</th>\n      <th>album_index</th>\n      <th>set</th>\n      <th>msd_artist_id</th>\n      <th>image_url</th>\n      <th>Unnamed: 0</th>\n    </tr>\n    <tr>\n      <th>msd_track_id</th>\n      <th></th>\n      <th></th>\n      <th></th>\n      <th></th>\n      <th></th>\n      <th></th>\n    </tr>\n  </thead>\n  <tbody>\n    <tr>\n      <th>TRQVZZU128F146EED9</th>\n      <td>Pop</td>\n      <td>48</td>\n      <td>train</td>\n      <td>AROVU6Z1187B9AE74E</td>\n      <td>http://artwork-cdn.7static.com/static/img/slee...</td>\n      <td>14036</td>\n    </tr>\n    <tr>\n      <th>TRFOXAG12903CFF23B</th>\n      <td>Metal</td>\n      <td>96</td>\n      <td>train</td>\n      <td>AR9EBE61187FB4BA7F</td>\n      <td>http://artwork-cdn.7static.com/static/img/slee...</td>\n      <td>17486</td>\n    </tr>\n    <tr>\n      <th>TRGOSCC128F42AC959</th>\n      <td>Electronic</td>\n      <td>131</td>\n      <td>train</td>\n      <td>ARB6OGR1187FB4D43D</td>\n      <td>http://artwork-cdn.7static.com/static/img/slee...</td>\n      <td>24651</td>\n    </tr>\n    <tr>\n      <th>TRRUKQW128F92DD945</th>\n      <td>Rock</td>\n      <td>376</td>\n      <td>train</td>\n      <td>ARPEC2W1187B98EC62</td>\n      <td>http://artwork-cdn.7static.com/static/img/slee...</td>\n      <td>9644</td>\n    </tr>\n    <tr>\n      <th>TRZVWIE128F4295ED6</th>\n      <td>Pop</td>\n      <td>572</td>\n      <td>train</td>\n      <td>AR3JMC51187B9AE49D</td>\n      <td>http://artwork-cdn.7static.com/static/img/slee...</td>\n      <td>9312</td>\n    </tr>\n    <tr>\n      <th>...</th>\n      <td>...</td>\n      <td>...</td>\n      <td>...</td>\n      <td>...</td>\n      <td>...</td>\n      <td>...</td>\n    </tr>\n    <tr>\n      <th>TRQKFUN128F148D01E</th>\n      <td>Electronic</td>\n      <td>21280</td>\n      <td>test</td>\n      <td>ARWOYNK1187FB3962B</td>\n      <td>http://artwork-cdn.7static.com/static/img/slee...</td>\n      <td>13149</td>\n    </tr>\n    <tr>\n      <th>TRKSWEI128F92ED8B0</th>\n      <td>Electronic</td>\n      <td>21365</td>\n      <td>test</td>\n      <td>ARONER11187FB3E442</td>\n      <td>http://artwork-cdn.7static.com/static/img/slee...</td>\n      <td>936</td>\n    </tr>\n    <tr>\n      <th>TRRGDHC128F428C743</th>\n      <td>Pop</td>\n      <td>21436</td>\n      <td>test</td>\n      <td>ARCGBJ21187B98B083</td>\n      <td>http://artwork-cdn.7static.com/static/img/slee...</td>\n      <td>10535</td>\n    </tr>\n    <tr>\n      <th>TRBQUEE128F42B4FE8</th>\n      <td>Metal</td>\n      <td>6468</td>\n      <td>test</td>\n      <td>AREXKKO1187B9AC3AD</td>\n      <td>http://artwork-cdn.7static.com/static/img/slee...</td>\n      <td>26707</td>\n    </tr>\n    <tr>\n      <th>TRMFLQB12903CE56C2</th>\n      <td>Blues</td>\n      <td>22358</td>\n      <td>test</td>\n      <td>AR56P361187B9AC4DB</td>\n      <td>http://artwork-cdn.7static.com/static/img/slee...</td>\n      <td>30541</td>\n    </tr>\n  </tbody>\n</table>\n<p>781 rows × 6 columns</p>\n</div>"
     },
     "metadata": {},
     "execution_count": 65
    }
   ],
   "source": [
    "# trial.loc[:,['msd_track_id','genre']].set_index('msd_track_id').join(msd.set_index('msd_track_id'))\n",
    "# msd.set_index('msd_track_id')\n",
    "\n",
    "x"
   ]
  },
  {
   "cell_type": "code",
   "execution_count": 31,
   "metadata": {},
   "outputs": [
    {
     "output_type": "execute_result",
     "data": {
      "text/plain": "genre\nBlues          425\nCountry        805\nElectronic    2562\nFolk           554\nJazz          1354\nLatin          391\nMetal         1150\nNew Age        152\nPop           1878\nPunk           400\nRap           1239\nReggae         830\nRnB            982\nRock          3905\nWorld          284\nName: album_index, dtype: int64"
     },
     "metadata": {},
     "execution_count": 31
    }
   ],
   "source": [
    "genre_album = trial.groupby('genre').agg({'album_index':'unique'})#,trial.groupby(['album_index']).agg({'msd_track_id':'count'})\n",
    "genre_album['album_index'].apply(len)"
   ]
  },
  {
   "cell_type": "code",
   "execution_count": 30,
   "metadata": {},
   "outputs": [
    {
     "output_type": "execute_result",
     "data": {
      "text/plain": "             msd_track_id       genre  album_index    set       msd_artist_id  \\\n0      TRABKJU128F422A7FE       Metal            0  train  ARBD4QW1187FB42153   \n1      TRBLDQQ128F92E58B4        Rock            1  train  AR3RK011187FB3CE3B   \n2      TRDMMDE128F14A9052        Rock            2  train  ARJVTRE1187B9959C0   \n3      TRJOPZB128F4250E02        Rock            4  train  AR62BB21187B9AC83D   \n4      TRJKBVL128F935567B        Rock            5  train  AR7GVOV1187B9B5FF1   \n...                   ...         ...          ...    ...                 ...   \n30701  TRKHBDC12903CD8949  Electronic        22332   test  ARGSRW21187B992282   \n30702  TRDGJQT128F42632E3  Electronic        22337   test  ARJH2B61187B9B9465   \n30703  TRRESAT128F422A1E6  Electronic        22347   test  ARON0ER1187FB52E2A   \n30707  TRMFLQB12903CE56C2       Blues        22358   test  AR56P361187B9AC4DB   \n30709  TRJUGOK128F4243DA6         Pop        22364   test  AR5MK521187B98E0B8   \n\n                                               image_url  \n0      http://artwork-cdn.7static.com/static/img/slee...  \n1      http://artwork-cdn.7static.com/static/img/slee...  \n2      http://artwork-cdn.7static.com/static/img/slee...  \n3      http://artwork-cdn.7static.com/static/img/slee...  \n4      http://artwork-cdn.7static.com/static/img/slee...  \n...                                                  ...  \n30701  http://artwork-cdn.7static.com/static/img/slee...  \n30702  http://artwork-cdn.7static.com/static/img/slee...  \n30703  http://artwork-cdn.7static.com/static/img/slee...  \n30707  http://artwork-cdn.7static.com/static/img/slee...  \n30709  http://artwork-cdn.7static.com/static/img/slee...  \n\n[16753 rows x 6 columns]",
      "text/html": "<div>\n<style scoped>\n    .dataframe tbody tr th:only-of-type {\n        vertical-align: middle;\n    }\n\n    .dataframe tbody tr th {\n        vertical-align: top;\n    }\n\n    .dataframe thead th {\n        text-align: right;\n    }\n</style>\n<table border=\"1\" class=\"dataframe\">\n  <thead>\n    <tr style=\"text-align: right;\">\n      <th></th>\n      <th>msd_track_id</th>\n      <th>genre</th>\n      <th>album_index</th>\n      <th>set</th>\n      <th>msd_artist_id</th>\n      <th>image_url</th>\n    </tr>\n  </thead>\n  <tbody>\n    <tr>\n      <th>0</th>\n      <td>TRABKJU128F422A7FE</td>\n      <td>Metal</td>\n      <td>0</td>\n      <td>train</td>\n      <td>ARBD4QW1187FB42153</td>\n      <td>http://artwork-cdn.7static.com/static/img/slee...</td>\n    </tr>\n    <tr>\n      <th>1</th>\n      <td>TRBLDQQ128F92E58B4</td>\n      <td>Rock</td>\n      <td>1</td>\n      <td>train</td>\n      <td>AR3RK011187FB3CE3B</td>\n      <td>http://artwork-cdn.7static.com/static/img/slee...</td>\n    </tr>\n    <tr>\n      <th>2</th>\n      <td>TRDMMDE128F14A9052</td>\n      <td>Rock</td>\n      <td>2</td>\n      <td>train</td>\n      <td>ARJVTRE1187B9959C0</td>\n      <td>http://artwork-cdn.7static.com/static/img/slee...</td>\n    </tr>\n    <tr>\n      <th>3</th>\n      <td>TRJOPZB128F4250E02</td>\n      <td>Rock</td>\n      <td>4</td>\n      <td>train</td>\n      <td>AR62BB21187B9AC83D</td>\n      <td>http://artwork-cdn.7static.com/static/img/slee...</td>\n    </tr>\n    <tr>\n      <th>4</th>\n      <td>TRJKBVL128F935567B</td>\n      <td>Rock</td>\n      <td>5</td>\n      <td>train</td>\n      <td>AR7GVOV1187B9B5FF1</td>\n      <td>http://artwork-cdn.7static.com/static/img/slee...</td>\n    </tr>\n    <tr>\n      <th>...</th>\n      <td>...</td>\n      <td>...</td>\n      <td>...</td>\n      <td>...</td>\n      <td>...</td>\n      <td>...</td>\n    </tr>\n    <tr>\n      <th>30701</th>\n      <td>TRKHBDC12903CD8949</td>\n      <td>Electronic</td>\n      <td>22332</td>\n      <td>test</td>\n      <td>ARGSRW21187B992282</td>\n      <td>http://artwork-cdn.7static.com/static/img/slee...</td>\n    </tr>\n    <tr>\n      <th>30702</th>\n      <td>TRDGJQT128F42632E3</td>\n      <td>Electronic</td>\n      <td>22337</td>\n      <td>test</td>\n      <td>ARJH2B61187B9B9465</td>\n      <td>http://artwork-cdn.7static.com/static/img/slee...</td>\n    </tr>\n    <tr>\n      <th>30703</th>\n      <td>TRRESAT128F422A1E6</td>\n      <td>Electronic</td>\n      <td>22347</td>\n      <td>test</td>\n      <td>ARON0ER1187FB52E2A</td>\n      <td>http://artwork-cdn.7static.com/static/img/slee...</td>\n    </tr>\n    <tr>\n      <th>30707</th>\n      <td>TRMFLQB12903CE56C2</td>\n      <td>Blues</td>\n      <td>22358</td>\n      <td>test</td>\n      <td>AR56P361187B9AC4DB</td>\n      <td>http://artwork-cdn.7static.com/static/img/slee...</td>\n    </tr>\n    <tr>\n      <th>30709</th>\n      <td>TRJUGOK128F4243DA6</td>\n      <td>Pop</td>\n      <td>22364</td>\n      <td>test</td>\n      <td>AR5MK521187B98E0B8</td>\n      <td>http://artwork-cdn.7static.com/static/img/slee...</td>\n    </tr>\n  </tbody>\n</table>\n<p>16753 rows × 6 columns</p>\n</div>"
     },
     "metadata": {},
     "execution_count": 30
    }
   ],
   "source": [
    "album_image = trial.groupby(['album_index']).head(1)\n",
    "album_image"
   ]
  },
  {
   "cell_type": "code",
   "execution_count": 8,
   "metadata": {},
   "outputs": [
    {
     "output_type": "execute_result",
     "data": {
      "text/plain": "array([['Metal',\n        'http://artwork-cdn.7static.com/static/img/sleeveart/00/008/487/0000848744_200.jpg'],\n       ['Rock',\n        'http://artwork-cdn.7static.com/static/img/sleeveart/00/004/765/0000476534_200.jpg'],\n       ['Rock',\n        'http://artwork-cdn.7static.com/static/img/sleeveart/00/000/623/0000062345_200.jpg'],\n       ...,\n       ['Electronic',\n        'http://artwork-cdn.7static.com/static/img/sleeveart/00/003/543/0000354319_200.jpg'],\n       ['Blues',\n        'http://artwork-cdn.7static.com/static/img/sleeveart/00/028/799/0002879900_200.jpg'],\n       ['Pop',\n        'http://artwork-cdn.7static.com/static/img/sleeveart/00/001/391/0000139188_200.jpg']],\n      dtype=object)"
     },
     "metadata": {},
     "execution_count": 8
    }
   ],
   "source": [
    "ai = album_image.loc[:,['genre','image_url']].to_numpy()\n",
    "ai"
   ]
  },
  {
   "cell_type": "code",
   "execution_count": 56,
   "metadata": {
    "tags": []
   },
   "outputs": [],
   "source": [
    "def scrapArt(album):\n",
    "\n",
    "    index = 0\n",
    "    r = requests.get(album[1])\n",
    "    if r.status_code != 200:\n",
    "        pass\n",
    "    img = io.BytesIO(r.content)\n",
    "    img = Image.open(img).convert('RGB')\n",
    "    if not os.path.isdir(album[0]):\n",
    "        os.mkdir(album[0])\n",
    "    with open(f'{album[0]}/{hashlib.sha1(r.content).hexdigest()[:10]}.jpg','wb') as f:\n",
    "        img.save(f,'JPEG',quality=100)\n"
   ]
  },
  {
   "cell_type": "code",
   "execution_count": 3,
   "metadata": {},
   "outputs": [
    {
     "output_type": "execute_result",
     "data": {
      "text/plain": "                         0                 1  \\\n0       TRMMMKD128F425225D  Karkkiautomaatti   \n1       TRMMMRX128F93187D9    Hudson Mohawke   \n2       TRMMMCH128F425532C       Yerba Brava   \n3       TRMMMXN128F42936A5  David Montgomery   \n4       TRMMMBB12903CB7D21        Kris Kross   \n...                    ...               ...   \n779051  TRYYYZM128F428E804           SKYCLAD   \n779052  TRYYYON128F932585A        Loose Shus   \n779053  TRYYYUS12903CD2DF0      Kiko Navarro   \n779054  TRYYYMG128F4260ECA    Gabriel Le Mar   \n779055  TRYYYVU12903CD01E3             Texta   \n\n                                                        2        3  \\\n0                                             Tanssi vaan  4418550   \n1                                       No One Could Ever  8898149   \n2                                           Si Vos Querés  9239868   \n3       Symphony No. 1 G minor \"Sinfonie Serieuse\"/All...  5346741   \n4                                       2 Da Beat Ch'yall  2511405   \n...                                                   ...      ...   \n779051                                  Inequality Street   788003   \n779052                           Taurus (Keenhouse Remix)  8564800   \n779053                                    O Samba Da Vida  8472838   \n779054                                            Novemba  1997445   \n779055                Fernweh feat. Sektion Kuchikäschtli  4116012   \n\n                       4                                                  5  \n0       Karkkiautomaatti                                        Tanssi vaan  \n1         Hudson Mohawke                                  No One Could Ever  \n2            Yerba Brava                                      Si vos queres  \n3          Franz Berwald  Symphony No. 1 in G minor \"Sinfonie Sérieuse\":...  \n4             Kris Kross                                  2 Da Beat Ch'yall  \n...                  ...                                                ...  \n779051           Skyclad                                  Inequality Street  \n779052        Loose Shus                                          Red Sonja  \n779053      Kiko Navarro                                    A Samba Da Vida  \n779054    Gabriel Le Mar                                        140 Degrees  \n779055             Texta              Fernweh (feat. Sektion Kuchikäschtli)  \n\n[779056 rows x 6 columns]",
      "text/html": "<div>\n<style scoped>\n    .dataframe tbody tr th:only-of-type {\n        vertical-align: middle;\n    }\n\n    .dataframe tbody tr th {\n        vertical-align: top;\n    }\n\n    .dataframe thead th {\n        text-align: right;\n    }\n</style>\n<table border=\"1\" class=\"dataframe\">\n  <thead>\n    <tr style=\"text-align: right;\">\n      <th></th>\n      <th>0</th>\n      <th>1</th>\n      <th>2</th>\n      <th>3</th>\n      <th>4</th>\n      <th>5</th>\n    </tr>\n  </thead>\n  <tbody>\n    <tr>\n      <th>0</th>\n      <td>TRMMMKD128F425225D</td>\n      <td>Karkkiautomaatti</td>\n      <td>Tanssi vaan</td>\n      <td>4418550</td>\n      <td>Karkkiautomaatti</td>\n      <td>Tanssi vaan</td>\n    </tr>\n    <tr>\n      <th>1</th>\n      <td>TRMMMRX128F93187D9</td>\n      <td>Hudson Mohawke</td>\n      <td>No One Could Ever</td>\n      <td>8898149</td>\n      <td>Hudson Mohawke</td>\n      <td>No One Could Ever</td>\n    </tr>\n    <tr>\n      <th>2</th>\n      <td>TRMMMCH128F425532C</td>\n      <td>Yerba Brava</td>\n      <td>Si Vos Querés</td>\n      <td>9239868</td>\n      <td>Yerba Brava</td>\n      <td>Si vos queres</td>\n    </tr>\n    <tr>\n      <th>3</th>\n      <td>TRMMMXN128F42936A5</td>\n      <td>David Montgomery</td>\n      <td>Symphony No. 1 G minor \"Sinfonie Serieuse\"/All...</td>\n      <td>5346741</td>\n      <td>Franz Berwald</td>\n      <td>Symphony No. 1 in G minor \"Sinfonie Sérieuse\":...</td>\n    </tr>\n    <tr>\n      <th>4</th>\n      <td>TRMMMBB12903CB7D21</td>\n      <td>Kris Kross</td>\n      <td>2 Da Beat Ch'yall</td>\n      <td>2511405</td>\n      <td>Kris Kross</td>\n      <td>2 Da Beat Ch'yall</td>\n    </tr>\n    <tr>\n      <th>...</th>\n      <td>...</td>\n      <td>...</td>\n      <td>...</td>\n      <td>...</td>\n      <td>...</td>\n      <td>...</td>\n    </tr>\n    <tr>\n      <th>779051</th>\n      <td>TRYYYZM128F428E804</td>\n      <td>SKYCLAD</td>\n      <td>Inequality Street</td>\n      <td>788003</td>\n      <td>Skyclad</td>\n      <td>Inequality Street</td>\n    </tr>\n    <tr>\n      <th>779052</th>\n      <td>TRYYYON128F932585A</td>\n      <td>Loose Shus</td>\n      <td>Taurus (Keenhouse Remix)</td>\n      <td>8564800</td>\n      <td>Loose Shus</td>\n      <td>Red Sonja</td>\n    </tr>\n    <tr>\n      <th>779053</th>\n      <td>TRYYYUS12903CD2DF0</td>\n      <td>Kiko Navarro</td>\n      <td>O Samba Da Vida</td>\n      <td>8472838</td>\n      <td>Kiko Navarro</td>\n      <td>A Samba Da Vida</td>\n    </tr>\n    <tr>\n      <th>779054</th>\n      <td>TRYYYMG128F4260ECA</td>\n      <td>Gabriel Le Mar</td>\n      <td>Novemba</td>\n      <td>1997445</td>\n      <td>Gabriel Le Mar</td>\n      <td>140 Degrees</td>\n    </tr>\n    <tr>\n      <th>779055</th>\n      <td>TRYYYVU12903CD01E3</td>\n      <td>Texta</td>\n      <td>Fernweh feat. Sektion Kuchikäschtli</td>\n      <td>4116012</td>\n      <td>Texta</td>\n      <td>Fernweh (feat. Sektion Kuchikäschtli)</td>\n    </tr>\n  </tbody>\n</table>\n<p>779056 rows × 6 columns</p>\n</div>"
     },
     "metadata": {},
     "execution_count": 3
    }
   ],
   "source": [
    "mxm = pd.read_csv('mxm.txt',sep='<SEP>',header=None)\n",
    "mxm.groupby()"
   ]
  },
  {
   "cell_type": "code",
   "execution_count": 63,
   "metadata": {},
   "outputs": [
    {
     "output_type": "execute_result",
     "data": {
      "text/plain": "                                          1  Unnamed: 0\nTRMMMQN128F4238509  Prince & The Revolution       31033\nTRMMWTG128F4283F07          Roger Whittaker       31018\nTRMMCTJ128F933AE36              Katie Melua       31001\nTRMMCJQ12903CD48A9     Bone Thugs-N-Harmony       31002\nTRMMCYD128F92C7FDF                Russ Taff       31003\n...                                     ...         ...\nTRYYXEY12903CB1EFB         Johann Pachelbel        3665\nTRYYXHU128F4295F30          Alexander Hacke        3664\nTRYYKWY128F425D7CF              Dan Hartman        3648\nTRYYKFJ128F93465A0       Pierangelo Bertoli        3647\nTRYYYON128F932585A               Loose Shus        3649\n\n[24767 rows x 2 columns]",
      "text/html": "<div>\n<style scoped>\n    .dataframe tbody tr th:only-of-type {\n        vertical-align: middle;\n    }\n\n    .dataframe tbody tr th {\n        vertical-align: top;\n    }\n\n    .dataframe thead th {\n        text-align: right;\n    }\n</style>\n<table border=\"1\" class=\"dataframe\">\n  <thead>\n    <tr style=\"text-align: right;\">\n      <th></th>\n      <th>1</th>\n      <th>Unnamed: 0</th>\n    </tr>\n  </thead>\n  <tbody>\n    <tr>\n      <th>TRMMMQN128F4238509</th>\n      <td>Prince &amp; The Revolution</td>\n      <td>31033</td>\n    </tr>\n    <tr>\n      <th>TRMMWTG128F4283F07</th>\n      <td>Roger Whittaker</td>\n      <td>31018</td>\n    </tr>\n    <tr>\n      <th>TRMMCTJ128F933AE36</th>\n      <td>Katie Melua</td>\n      <td>31001</td>\n    </tr>\n    <tr>\n      <th>TRMMCJQ12903CD48A9</th>\n      <td>Bone Thugs-N-Harmony</td>\n      <td>31002</td>\n    </tr>\n    <tr>\n      <th>TRMMCYD128F92C7FDF</th>\n      <td>Russ Taff</td>\n      <td>31003</td>\n    </tr>\n    <tr>\n      <th>...</th>\n      <td>...</td>\n      <td>...</td>\n    </tr>\n    <tr>\n      <th>TRYYXEY12903CB1EFB</th>\n      <td>Johann Pachelbel</td>\n      <td>3665</td>\n    </tr>\n    <tr>\n      <th>TRYYXHU128F4295F30</th>\n      <td>Alexander Hacke</td>\n      <td>3664</td>\n    </tr>\n    <tr>\n      <th>TRYYKWY128F425D7CF</th>\n      <td>Dan Hartman</td>\n      <td>3648</td>\n    </tr>\n    <tr>\n      <th>TRYYKFJ128F93465A0</th>\n      <td>Pierangelo Bertoli</td>\n      <td>3647</td>\n    </tr>\n    <tr>\n      <th>TRYYYON128F932585A</th>\n      <td>Loose Shus</td>\n      <td>3649</td>\n    </tr>\n  </tbody>\n</table>\n<p>24767 rows × 2 columns</p>\n</div>"
     },
     "metadata": {},
     "execution_count": 63
    }
   ],
   "source": [
    "mxm.loc[:,[0,1]].set_index(0).join(mimi.set_index('msd_track_id'),how='inner')"
   ]
  },
  {
   "cell_type": "code",
   "execution_count": 59,
   "metadata": {},
   "outputs": [
    {
     "output_type": "execute_result",
     "data": {
      "text/plain": "                         0                 1  \\\n0       TRMMMKD128F425225D  Karkkiautomaatti   \n1       TRMMMRX128F93187D9    Hudson Mohawke   \n2       TRMMMCH128F425532C       Yerba Brava   \n3       TRMMMXN128F42936A5  David Montgomery   \n4       TRMMMBB12903CB7D21        Kris Kross   \n...                    ...               ...   \n779051  TRYYYZM128F428E804           SKYCLAD   \n779052  TRYYYON128F932585A        Loose Shus   \n779053  TRYYYUS12903CD2DF0      Kiko Navarro   \n779054  TRYYYMG128F4260ECA    Gabriel Le Mar   \n779055  TRYYYVU12903CD01E3             Texta   \n\n                                                        2        3  \\\n0                                             Tanssi vaan  4418550   \n1                                       No One Could Ever  8898149   \n2                                           Si Vos Querés  9239868   \n3       Symphony No. 1 G minor \"Sinfonie Serieuse\"/All...  5346741   \n4                                       2 Da Beat Ch'yall  2511405   \n...                                                   ...      ...   \n779051                                  Inequality Street   788003   \n779052                           Taurus (Keenhouse Remix)  8564800   \n779053                                    O Samba Da Vida  8472838   \n779054                                            Novemba  1997445   \n779055                Fernweh feat. Sektion Kuchikäschtli  4116012   \n\n                       4                                                  5  \n0       Karkkiautomaatti                                        Tanssi vaan  \n1         Hudson Mohawke                                  No One Could Ever  \n2            Yerba Brava                                      Si vos queres  \n3          Franz Berwald  Symphony No. 1 in G minor \"Sinfonie Sérieuse\":...  \n4             Kris Kross                                  2 Da Beat Ch'yall  \n...                  ...                                                ...  \n779051           Skyclad                                  Inequality Street  \n779052        Loose Shus                                          Red Sonja  \n779053      Kiko Navarro                                    A Samba Da Vida  \n779054    Gabriel Le Mar                                        140 Degrees  \n779055             Texta              Fernweh (feat. Sektion Kuchikäschtli)  \n\n[779056 rows x 6 columns]",
      "text/html": "<div>\n<style scoped>\n    .dataframe tbody tr th:only-of-type {\n        vertical-align: middle;\n    }\n\n    .dataframe tbody tr th {\n        vertical-align: top;\n    }\n\n    .dataframe thead th {\n        text-align: right;\n    }\n</style>\n<table border=\"1\" class=\"dataframe\">\n  <thead>\n    <tr style=\"text-align: right;\">\n      <th></th>\n      <th>0</th>\n      <th>1</th>\n      <th>2</th>\n      <th>3</th>\n      <th>4</th>\n      <th>5</th>\n    </tr>\n  </thead>\n  <tbody>\n    <tr>\n      <th>0</th>\n      <td>TRMMMKD128F425225D</td>\n      <td>Karkkiautomaatti</td>\n      <td>Tanssi vaan</td>\n      <td>4418550</td>\n      <td>Karkkiautomaatti</td>\n      <td>Tanssi vaan</td>\n    </tr>\n    <tr>\n      <th>1</th>\n      <td>TRMMMRX128F93187D9</td>\n      <td>Hudson Mohawke</td>\n      <td>No One Could Ever</td>\n      <td>8898149</td>\n      <td>Hudson Mohawke</td>\n      <td>No One Could Ever</td>\n    </tr>\n    <tr>\n      <th>2</th>\n      <td>TRMMMCH128F425532C</td>\n      <td>Yerba Brava</td>\n      <td>Si Vos Querés</td>\n      <td>9239868</td>\n      <td>Yerba Brava</td>\n      <td>Si vos queres</td>\n    </tr>\n    <tr>\n      <th>3</th>\n      <td>TRMMMXN128F42936A5</td>\n      <td>David Montgomery</td>\n      <td>Symphony No. 1 G minor \"Sinfonie Serieuse\"/All...</td>\n      <td>5346741</td>\n      <td>Franz Berwald</td>\n      <td>Symphony No. 1 in G minor \"Sinfonie Sérieuse\":...</td>\n    </tr>\n    <tr>\n      <th>4</th>\n      <td>TRMMMBB12903CB7D21</td>\n      <td>Kris Kross</td>\n      <td>2 Da Beat Ch'yall</td>\n      <td>2511405</td>\n      <td>Kris Kross</td>\n      <td>2 Da Beat Ch'yall</td>\n    </tr>\n    <tr>\n      <th>...</th>\n      <td>...</td>\n      <td>...</td>\n      <td>...</td>\n      <td>...</td>\n      <td>...</td>\n      <td>...</td>\n    </tr>\n    <tr>\n      <th>779051</th>\n      <td>TRYYYZM128F428E804</td>\n      <td>SKYCLAD</td>\n      <td>Inequality Street</td>\n      <td>788003</td>\n      <td>Skyclad</td>\n      <td>Inequality Street</td>\n    </tr>\n    <tr>\n      <th>779052</th>\n      <td>TRYYYON128F932585A</td>\n      <td>Loose Shus</td>\n      <td>Taurus (Keenhouse Remix)</td>\n      <td>8564800</td>\n      <td>Loose Shus</td>\n      <td>Red Sonja</td>\n    </tr>\n    <tr>\n      <th>779053</th>\n      <td>TRYYYUS12903CD2DF0</td>\n      <td>Kiko Navarro</td>\n      <td>O Samba Da Vida</td>\n      <td>8472838</td>\n      <td>Kiko Navarro</td>\n      <td>A Samba Da Vida</td>\n    </tr>\n    <tr>\n      <th>779054</th>\n      <td>TRYYYMG128F4260ECA</td>\n      <td>Gabriel Le Mar</td>\n      <td>Novemba</td>\n      <td>1997445</td>\n      <td>Gabriel Le Mar</td>\n      <td>140 Degrees</td>\n    </tr>\n    <tr>\n      <th>779055</th>\n      <td>TRYYYVU12903CD01E3</td>\n      <td>Texta</td>\n      <td>Fernweh feat. Sektion Kuchikäschtli</td>\n      <td>4116012</td>\n      <td>Texta</td>\n      <td>Fernweh (feat. Sektion Kuchikäschtli)</td>\n    </tr>\n  </tbody>\n</table>\n<p>779056 rows × 6 columns</p>\n</div>"
     },
     "metadata": {},
     "execution_count": 59
    }
   ],
   "source": []
  },
  {
   "cell_type": "code",
   "execution_count": null,
   "metadata": {},
   "outputs": [],
   "source": []
  }
 ],
 "metadata": {
  "language_info": {
   "codemirror_mode": {
    "name": "ipython",
    "version": 3
   },
   "file_extension": ".py",
   "mimetype": "text/x-python",
   "name": "python",
   "nbconvert_exporter": "python",
   "pygments_lexer": "ipython3",
   "version": "3.7.7-final"
  },
  "orig_nbformat": 2,
  "kernelspec": {
   "name": "python37764bitremixartconda754be6cf19a94920834a6bc6331bcd85",
   "display_name": "Python 3.7.7 64-bit ('RemixArt': conda)"
  }
 },
 "nbformat": 4,
 "nbformat_minor": 2
}