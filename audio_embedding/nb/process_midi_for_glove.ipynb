{
 "cells": [
  {
   "cell_type": "markdown",
   "metadata": {},
   "source": [
    "# Process MIDI for GloVe\n",
    "Loads a collection of MIDI files from disk, filters out all non-monophonic tracks, and saves a sequence of notes from the remaining tracks to `data/notes.txt`. `notes.txt` can then be used by GloVe to create MIDI note embeddings."
   ]
  },
  {
   "cell_type": "markdown",
   "metadata": {},
   "source": [
    "## Imports"
   ]
  },
  {
   "cell_type": "code",
   "execution_count": 18,
   "metadata": {},
   "outputs": [],
   "source": [
    "import os, time\n",
    "import numpy as np\n",
    "import pretty_midi\n",
    "import pandas as pd"
   ]
  },
  {
   "cell_type": "markdown",
   "metadata": {},
   "source": [
    "## Utils"
   ]
  },
  {
   "cell_type": "code",
   "execution_count": 22,
   "metadata": {},
   "outputs": [],
   "source": [
    "def parse_midi(path):\n",
    "    midi = None\n",
    "    with open(path, 'rb') as f:\n",
    "        try:\n",
    "            midi = pretty_midi.PrettyMIDI(f)\n",
    "            midi.remove_invalid_notes()\n",
    "        except:\n",
    "            pass\n",
    "    return midi\n",
    "\n",
    "def get_percent_monophonic(pm_instrument_roll):\n",
    "    mask = pm_instrument_roll.T > 0\n",
    "    notes = np.sum(mask, axis=1)\n",
    "    n = np.count_nonzero(notes)\n",
    "    single = np.count_nonzero(notes == 1)\n",
    "    if single > 0:\n",
    "        return float(single) / float(n)\n",
    "    elif single == 0 and n > 0:\n",
    "        return 0.0\n",
    "    else: # no notes of any kind\n",
    "        return 0.0\n",
    "    \n",
    "def filter_monophonic(pm_instruments, percent_monophonic=0.99):\n",
    "    return [i for i in pm_instruments if get_percent_monophonic(i.get_piano_roll()) >= percent_monophonic]\n",
    "def sort_by_start(note):\n",
    "    return float(note.start)\n",
    "def get_note_string(midi):\n",
    "    midi = parse_midi(f)\n",
    "    if midi is not None:\n",
    "        for instrument in midi.instruments:\n",
    "            buff = [n for n in instrument.notes]\n",
    "        buff.sort(key=sort_by_start)\n",
    "        buff = [str(n.pitch) for n in buff]\n",
    "        return buff\n",
    "    else: \n",
    "        return None"
   ]
  },
  {
   "cell_type": "markdown",
   "metadata": {},
   "source": [
    "Edit `midi_dir` to point to the directory of MIDI files you would like to learn your note embeddings from."
   ]
  },
  {
   "cell_type": "code",
   "execution_count": 23,
   "metadata": {},
   "outputs": [],
   "source": [
    "midi_dir = 'data/audio'"
   ]
  },
  {
   "cell_type": "markdown",
   "metadata": {},
   "source": [
    "Run it!"
   ]
  },
  {
   "cell_type": "code",
   "execution_count": 4,
   "metadata": {},
   "outputs": [
    {
     "name": "stdout",
     "output_type": "stream",
     "text": [
      "Finished in 0.5497093200683594 seconds\n"
     ]
    }
   ],
   "source": [
    "files = [os.path.join(midi_dir, f) for f in os.listdir(midi_dir)]\n",
    "unread = []\n",
    "midi_vector = []\n",
    "start_time = time.time()\n",
    "i=0\n",
    "for f in files:\n",
    "    midi_vector.append(get_note_string(f))\n",
    "    i += 1\n",
    "    if i==5: break\n",
    "print('Finished in {} seconds'.format(time.time() - start_time))"
   ]
  },
  {
   "cell_type": "code",
   "execution_count": 7,
   "metadata": {},
   "outputs": [],
   "source": [
    "with open('data/audio_embedding.p','wb') as f:\n",
    "    p.dump(midi_vector,f)\n",
    "with open('data/unread_list.p','wb') as f:\n",
    "    p.dump(unread,f)\n"
   ]
  },
  {
   "cell_type": "code",
   "execution_count": null,
   "metadata": {},
   "outputs": [],
   "source": []
  }
 ],
 "metadata": {
  "kernelspec": {
   "display_name": "Python 3",
   "language": "python",
   "name": "python3"
  },
  "language_info": {
   "codemirror_mode": {
    "name": "ipython",
    "version": 3
   },
   "file_extension": ".py",
   "mimetype": "text/x-python",
   "name": "python",
   "nbconvert_exporter": "python",
   "pygments_lexer": "ipython3",
   "version": "3.7.6"
  }
 },
 "nbformat": 4,
 "nbformat_minor": 4
}
