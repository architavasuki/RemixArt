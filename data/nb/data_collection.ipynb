{
 "cells": [
  {
   "cell_type": "code",
   "execution_count": 27,
   "metadata": {},
   "outputs": [],
   "source": [
    "import pandas as pd\n",
    "import numpy as np\n",
    "import requests\n",
    "import hashlib\n",
    "from PIL import Image\n",
    "import multiprocessing\n",
    "import os\n",
    "import io\n",
    "import sys\n",
    "import json\n",
    "import string"
   ]
  },
  {
   "cell_type": "code",
   "execution_count": 2,
   "metadata": {},
   "outputs": [],
   "source": [
    "path = '../../../Temporary/'"
   ]
  },
  {
   "cell_type": "markdown",
   "metadata": {},
   "source": [
    "# Utility"
   ]
  },
  {
   "cell_type": "code",
   "execution_count": 93,
   "metadata": {},
   "outputs": [],
   "source": [
    "def to_lower(text):\n",
    "    return text.lower()"
   ]
  },
  {
   "cell_type": "markdown",
   "metadata": {},
   "source": [
    "All the data that we are collecting will be in reference to <a href='http://millionsongdataset.com/'>Million Song Dataset</a>."
   ]
  },
  {
   "cell_type": "markdown",
   "metadata": {},
   "source": [
    "# Scrapping Album Art\n",
    "\n",
    "Source: <a href='https://zenodo.org/record/1240485#.Xvx5DXUzais'>MSD-I: Million Song Dataset with Images for Multimodal Genre Classification</a>"
   ]
  },
  {
   "cell_type": "code",
   "execution_count": 3,
   "metadata": {},
   "outputs": [
    {
     "name": "stdout",
     "output_type": "stream",
     "text": [
      "--2020-07-01 12:51:55--  https://zenodo.org/record/1240485/files/MSD-I_dataset.tsv\n",
      "Resolving zenodo.org (zenodo.org)... 188.184.117.155\n",
      "Connecting to zenodo.org (zenodo.org)|188.184.117.155|:443... connected.\n",
      "HTTP request sent, awaiting response... 200 OK\n",
      "Length: 4205818 (4.0M) [application/octet-stream]\n",
      "Saving to: ‘MSD-I_dataset.tsv’\n",
      "\n",
      "MSD-I_dataset.tsv   100%[===================>]   4.01M  1.64MB/s    in 2.4s    \n",
      "\n",
      "2020-07-01 12:51:59 (1.64 MB/s) - ‘MSD-I_dataset.tsv’ saved [4205818/4205818]\n",
      "\n"
     ]
    }
   ],
   "source": [
    "# !wget https://zenodo.org/record/1240485/files/MSD-I_dataset.tsv\n",
    "# !mv 'MSD-I_dataset.tsv' '../../../Temporary/MSD-I_dataset.tsv'"
   ]
  },
  {
   "cell_type": "code",
   "execution_count": 4,
   "metadata": {},
   "outputs": [
    {
     "name": "stdout",
     "output_type": "stream",
     "text": [
      "<class 'pandas.core.frame.DataFrame'>\n",
      "RangeIndex: 30713 entries, 0 to 30712\n",
      "Data columns (total 6 columns):\n",
      " #   Column         Non-Null Count  Dtype \n",
      "---  ------         --------------  ----- \n",
      " 0   msd_track_id   30713 non-null  object\n",
      " 1   genre          30713 non-null  object\n",
      " 2   album_index    30713 non-null  int64 \n",
      " 3   set            30713 non-null  object\n",
      " 4   msd_artist_id  30713 non-null  object\n",
      " 5   image_url      30713 non-null  object\n",
      "dtypes: int64(1), object(5)\n",
      "memory usage: 1.4+ MB\n"
     ]
    }
   ],
   "source": [
    "art_data = pd.read_csv(f'{path}MSD-I_dataset.tsv',sep='\\t')\n",
    "art_data.info()"
   ]
  },
  {
   "cell_type": "code",
   "execution_count": 5,
   "metadata": {},
   "outputs": [],
   "source": [
    "album_image = art_data.groupby(['album_index']).head(1)\n",
    "album_image.to_csv(f'{path}album_image.csv')"
   ]
  },
  {
   "cell_type": "code",
   "execution_count": 6,
   "metadata": {},
   "outputs": [],
   "source": [
    "album_image = pd.read_csv(f'{path}album_image.csv')\n",
    "album_image = album_image.loc[:,['genre','image_url']].to_numpy()\n",
    "album_image = album_image.tolist()"
   ]
  },
  {
   "cell_type": "code",
   "execution_count": 7,
   "metadata": {},
   "outputs": [],
   "source": [
    "def scrapArt(album):\n",
    "    try:\n",
    "      r = requests.get(album[1])\n",
    "      if r.status_code != 200:\n",
    "          pass\n",
    "      img = io.BytesIO(r.content)\n",
    "      img = Image.open(img).convert('RGB')\n",
    "      if not os.path.isdir(f'images/{album[0]}'):\n",
    "          os.mkdir(f'images/{album[0]}')\n",
    "      with open(f'images/{album[0]}/{hashlib.sha1(r.content).hexdigest()[:10]}.jpg','wb') as f:\n",
    "          img.save(f,'JPEG',quality=100)\n",
    "    except:\n",
    "      pass\n"
   ]
  },
  {
   "cell_type": "code",
   "execution_count": 9,
   "metadata": {},
   "outputs": [],
   "source": [
    "pool = multiprocessing.Pool() \n",
    "pool = multiprocessing.Pool(processes=os.cpu_count())\n",
    "outputs = pool.map(scrapArt, album_image)"
   ]
  },
  {
   "cell_type": "code",
   "execution_count": 10,
   "metadata": {},
   "outputs": [],
   "source": [
    "!zip -r albumart.zip images"
   ]
  },
  {
   "cell_type": "markdown",
   "metadata": {},
   "source": [
    "# LMD MIDI Dataset\n",
    "\n",
    "## Getting the MIDI Dataset which has been matched with MSD Dataset"
   ]
  },
  {
   "cell_type": "code",
   "execution_count": 38,
   "metadata": {},
   "outputs": [
    {
     "name": "stdout",
     "output_type": "stream",
     "text": [
      "--2020-07-01 12:21:48--  http://hog.ee.columbia.edu/craffel/lmd/lmd_matched.tar.gz\n",
      "Resolving hog.ee.columbia.edu (hog.ee.columbia.edu)... 128.59.66.5\n",
      "Connecting to hog.ee.columbia.edu (hog.ee.columbia.edu)|128.59.66.5|:80... connected.\n",
      "HTTP request sent, awaiting response... 200 OK\n",
      "Length: 1407072670 (1.3G) [application/x-gzip]\n",
      "Saving to: ‘lmd_matched.tar.gz’\n",
      "\n",
      "lmd_matched.tar.gz  100%[===================>]   1.31G  10.9MB/s    in 2m 3s   \n",
      "\n",
      "2020-07-01 12:23:52 (10.9 MB/s) - ‘lmd_matched.tar.gz’ saved [1407072670/1407072670]\n",
      "\n"
     ]
    }
   ],
   "source": [
    "# !wget http://hog.ee.columbia.edu/craffel/lmd/lmd_matched.tar.gz\n",
    "# !mv 'lmd_matched.tar.gz' path+'lmd_matched.tar.gz'\n",
    "# !tar -xf path+'lmd_matched.tar.gz'"
   ]
  },
  {
   "cell_type": "code",
   "execution_count": 14,
   "metadata": {},
   "outputs": [],
   "source": [
    "path_midi = f'{path}lmd_matched'\n",
    "path_midi = os.path.normpath(path_midi)\n",
    "midi = []\n",
    "for root,dirs,files in os.walk(path_midi, topdown=True):\n",
    "    depth = root[len(path_midi) + len(os.path.sep):].count(os.path.sep)\n",
    "    if depth == 2:\n",
    "        # We're currently two directories in, so all subdirs have depth 3\n",
    "        midi += [os.path.join(root, f) for f in dirs]\n",
    "        dirs[:] = [] # Don't recurse any deeper\n",
    "midi = [ids.split('/')[-1] for ids in midi]"
   ]
  },
  {
   "cell_type": "code",
   "execution_count": 17,
   "metadata": {},
   "outputs": [],
   "source": [
    "midi = pd.DataFrame(midi,columns=['msd_track_id'])\n",
    "midi.to_csv(f'{path}midi.csv')"
   ]
  },
  {
   "cell_type": "markdown",
   "metadata": {},
   "source": [
    "# Last.FM Data : Train & Test"
   ]
  },
  {
   "cell_type": "code",
   "execution_count": 22,
   "metadata": {},
   "outputs": [],
   "source": [
    "# !wget http://millionsongdataset.com/sites/default/files/lastfm/lastfm_train.zip\n",
    "# !mv 'lastfm_train.zip' '../../../Temporary/lastfm_train.zip'\n",
    "# !unzip '../../../Temporary/lastfm_train.zip'"
   ]
  },
  {
   "cell_type": "code",
   "execution_count": 36,
   "metadata": {},
   "outputs": [],
   "source": [
    "# !wget http://millionsongdataset.com/sites/default/files/lastfm/lastfm_test.zip\n",
    "# !mv 'lastfm_test.zip' '../../../Temporary/lastfm_test.zip'\n",
    "# !unzip '../../../Temporary/lastfm_test.zip'"
   ]
  },
  {
   "cell_type": "code",
   "execution_count": 26,
   "metadata": {},
   "outputs": [],
   "source": [
    "# !wget http://millionsongdataset.com/sites/default/files/lastfm/tracks_with_tag.txt\n",
    "# !wget http://millionsongdataset.com/sites/default/files/lastfm/lastfm_unique_tags.txt\n",
    "# !mv 'tracks_with_tag.txt' '../../../Temporary/tracks_with_tag.txt'\n",
    "# !mv 'lastfm_unique_tags.txt' '../../../Temporary/lastfm_unique_tags.txt'"
   ]
  },
  {
   "cell_type": "code",
   "execution_count": 30,
   "metadata": {},
   "outputs": [],
   "source": [
    "lfm_path = path+'lastfm_train'\n",
    "lfm_path = os.path.normpath(lfm)\n",
    "midi_path = {}\n",
    "for root,dirs,files in os.walk(lfm_path, topdown=True):\n",
    "    depth = root[len(lfm_path) + len(os.path.sep):].count(os.path.sep)\n",
    "    if depth == 2:\n",
    "        # We're currently two directories in, so all subdirs have depth 3\n",
    "        midi_path.update({f[:-5]:os.path.join(root, f) for f in files})\n",
    "        dirs[:] = [] # Don't recurse any deeper"
   ]
  },
  {
   "cell_type": "code",
   "execution_count": 37,
   "metadata": {},
   "outputs": [],
   "source": [
    "lfm_path = path+'lastfm_test'\n",
    "lfm_path = os.path.normpath(lfm)\n",
    "for root,dirs,files in os.walk(lfm_path, topdown=True):\n",
    "    depth = root[len(lfm_path) + len(os.path.sep):].count(os.path.sep)\n",
    "    if depth == 2:\n",
    "        # We're currently two directories in, so all subdirs have depth 3\n",
    "        midi_path.update({f[:-5]:os.path.join(root, f) for f in files})\n",
    "        dirs[:] = [] # Don't recurse any deeper"
   ]
  },
  {
   "cell_type": "code",
   "execution_count": 47,
   "metadata": {},
   "outputs": [
    {
     "data": {
      "text/html": [
       "<div>\n",
       "<style scoped>\n",
       "    .dataframe tbody tr th:only-of-type {\n",
       "        vertical-align: middle;\n",
       "    }\n",
       "\n",
       "    .dataframe tbody tr th {\n",
       "        vertical-align: top;\n",
       "    }\n",
       "\n",
       "    .dataframe thead th {\n",
       "        text-align: right;\n",
       "    }\n",
       "</style>\n",
       "<table border=\"1\" class=\"dataframe\">\n",
       "  <thead>\n",
       "    <tr style=\"text-align: right;\">\n",
       "      <th></th>\n",
       "      <th>msd_track_id</th>\n",
       "      <th>path</th>\n",
       "    </tr>\n",
       "  </thead>\n",
       "  <tbody>\n",
       "    <tr>\n",
       "      <th>0</th>\n",
       "      <td>TRJJJIK128F4230D6F</td>\n",
       "      <td>../../../Temporary/lastfm_train/J/J/J/TRJJJIK1...</td>\n",
       "    </tr>\n",
       "    <tr>\n",
       "      <th>1</th>\n",
       "      <td>TRJJJYF12903CBB80B</td>\n",
       "      <td>../../../Temporary/lastfm_train/J/J/J/TRJJJYF1...</td>\n",
       "    </tr>\n",
       "    <tr>\n",
       "      <th>2</th>\n",
       "      <td>TRJJJGI128F9320F8B</td>\n",
       "      <td>../../../Temporary/lastfm_train/J/J/J/TRJJJGI1...</td>\n",
       "    </tr>\n",
       "    <tr>\n",
       "      <th>3</th>\n",
       "      <td>TRJJJWA128F92FE4E4</td>\n",
       "      <td>../../../Temporary/lastfm_train/J/J/J/TRJJJWA1...</td>\n",
       "    </tr>\n",
       "    <tr>\n",
       "      <th>4</th>\n",
       "      <td>TRJJJVY128F9307F73</td>\n",
       "      <td>../../../Temporary/lastfm_train/J/J/J/TRJJJVY1...</td>\n",
       "    </tr>\n",
       "    <tr>\n",
       "      <th>...</th>\n",
       "      <td>...</td>\n",
       "      <td>...</td>\n",
       "    </tr>\n",
       "    <tr>\n",
       "      <th>839117</th>\n",
       "      <td>TRBBBHG128F1464E82</td>\n",
       "      <td>../../../Temporary/lastfm_train/B/B/B/TRBBBHG1...</td>\n",
       "    </tr>\n",
       "    <tr>\n",
       "      <th>839118</th>\n",
       "      <td>TRBBBLE128EF34C167</td>\n",
       "      <td>../../../Temporary/lastfm_train/B/B/B/TRBBBLE1...</td>\n",
       "    </tr>\n",
       "    <tr>\n",
       "      <th>839119</th>\n",
       "      <td>TRBBBLT128F92EE699</td>\n",
       "      <td>../../../Temporary/lastfm_train/B/B/B/TRBBBLT1...</td>\n",
       "    </tr>\n",
       "    <tr>\n",
       "      <th>839120</th>\n",
       "      <td>TRBBBUQ128F149851A</td>\n",
       "      <td>../../../Temporary/lastfm_train/B/B/B/TRBBBUQ1...</td>\n",
       "    </tr>\n",
       "    <tr>\n",
       "      <th>839121</th>\n",
       "      <td>TRBBBPE128F14639CA</td>\n",
       "      <td>../../../Temporary/lastfm_train/B/B/B/TRBBBPE1...</td>\n",
       "    </tr>\n",
       "  </tbody>\n",
       "</table>\n",
       "<p>839122 rows × 2 columns</p>\n",
       "</div>"
      ],
      "text/plain": [
       "              msd_track_id                                               path\n",
       "0       TRJJJIK128F4230D6F  ../../../Temporary/lastfm_train/J/J/J/TRJJJIK1...\n",
       "1       TRJJJYF12903CBB80B  ../../../Temporary/lastfm_train/J/J/J/TRJJJYF1...\n",
       "2       TRJJJGI128F9320F8B  ../../../Temporary/lastfm_train/J/J/J/TRJJJGI1...\n",
       "3       TRJJJWA128F92FE4E4  ../../../Temporary/lastfm_train/J/J/J/TRJJJWA1...\n",
       "4       TRJJJVY128F9307F73  ../../../Temporary/lastfm_train/J/J/J/TRJJJVY1...\n",
       "...                    ...                                                ...\n",
       "839117  TRBBBHG128F1464E82  ../../../Temporary/lastfm_train/B/B/B/TRBBBHG1...\n",
       "839118  TRBBBLE128EF34C167  ../../../Temporary/lastfm_train/B/B/B/TRBBBLE1...\n",
       "839119  TRBBBLT128F92EE699  ../../../Temporary/lastfm_train/B/B/B/TRBBBLT1...\n",
       "839120  TRBBBUQ128F149851A  ../../../Temporary/lastfm_train/B/B/B/TRBBBUQ1...\n",
       "839121  TRBBBPE128F14639CA  ../../../Temporary/lastfm_train/B/B/B/TRBBBPE1...\n",
       "\n",
       "[839122 rows x 2 columns]"
      ]
     },
     "execution_count": 47,
     "metadata": {},
     "output_type": "execute_result"
    }
   ],
   "source": [
    "midi_path_df = pd.DataFrame(midi_path.items(),columns=['msd_track_id','path'])\n",
    "midi_path_df"
   ]
  },
  {
   "cell_type": "markdown",
   "metadata": {},
   "source": [
    "# MIDI : Last.FM : Genre"
   ]
  },
  {
   "cell_type": "code",
   "execution_count": 51,
   "metadata": {},
   "outputs": [
    {
     "data": {
      "text/html": [
       "<div>\n",
       "<style scoped>\n",
       "    .dataframe tbody tr th:only-of-type {\n",
       "        vertical-align: middle;\n",
       "    }\n",
       "\n",
       "    .dataframe tbody tr th {\n",
       "        vertical-align: top;\n",
       "    }\n",
       "\n",
       "    .dataframe thead th {\n",
       "        text-align: right;\n",
       "    }\n",
       "</style>\n",
       "<table border=\"1\" class=\"dataframe\">\n",
       "  <thead>\n",
       "    <tr style=\"text-align: right;\">\n",
       "      <th></th>\n",
       "      <th>msd_track_id</th>\n",
       "      <th>key</th>\n",
       "    </tr>\n",
       "  </thead>\n",
       "  <tbody>\n",
       "    <tr>\n",
       "      <th>0</th>\n",
       "      <td>TRJJJCW128F42218C7</td>\n",
       "      <td>TRJJJCW128F42218C7</td>\n",
       "    </tr>\n",
       "    <tr>\n",
       "      <th>1</th>\n",
       "      <td>TRJJJAM128F425C444</td>\n",
       "      <td>TRJJJAM128F425C444</td>\n",
       "    </tr>\n",
       "    <tr>\n",
       "      <th>2</th>\n",
       "      <td>TRJJNTK128F4297ADE</td>\n",
       "      <td>TRJJNTK128F4297ADE</td>\n",
       "    </tr>\n",
       "    <tr>\n",
       "      <th>3</th>\n",
       "      <td>TRJJREY128F93123DD</td>\n",
       "      <td>TRJJREY128F93123DD</td>\n",
       "    </tr>\n",
       "    <tr>\n",
       "      <th>4</th>\n",
       "      <td>TRJJRTB128F92D0791</td>\n",
       "      <td>TRJJRTB128F92D0791</td>\n",
       "    </tr>\n",
       "    <tr>\n",
       "      <th>...</th>\n",
       "      <td>...</td>\n",
       "      <td>...</td>\n",
       "    </tr>\n",
       "    <tr>\n",
       "      <th>31029</th>\n",
       "      <td>TRBBYDT128F14805B4</td>\n",
       "      <td>TRBBYDT128F14805B4</td>\n",
       "    </tr>\n",
       "    <tr>\n",
       "      <th>31030</th>\n",
       "      <td>TRBBYVD128F931AE0C</td>\n",
       "      <td>TRBBYVD128F931AE0C</td>\n",
       "    </tr>\n",
       "    <tr>\n",
       "      <th>31031</th>\n",
       "      <td>TRBBSFX128F426D4A1</td>\n",
       "      <td>TRBBSFX128F426D4A1</td>\n",
       "    </tr>\n",
       "    <tr>\n",
       "      <th>31032</th>\n",
       "      <td>TRBBSDR12903CAE89C</td>\n",
       "      <td>TRBBSDR12903CAE89C</td>\n",
       "    </tr>\n",
       "    <tr>\n",
       "      <th>31033</th>\n",
       "      <td>TRBBBWR12903CEE1D4</td>\n",
       "      <td>TRBBBWR12903CEE1D4</td>\n",
       "    </tr>\n",
       "  </tbody>\n",
       "</table>\n",
       "<p>31034 rows × 2 columns</p>\n",
       "</div>"
      ],
      "text/plain": [
       "             msd_track_id                 key\n",
       "0      TRJJJCW128F42218C7  TRJJJCW128F42218C7\n",
       "1      TRJJJAM128F425C444  TRJJJAM128F425C444\n",
       "2      TRJJNTK128F4297ADE  TRJJNTK128F4297ADE\n",
       "3      TRJJREY128F93123DD  TRJJREY128F93123DD\n",
       "4      TRJJRTB128F92D0791  TRJJRTB128F92D0791\n",
       "...                   ...                 ...\n",
       "31029  TRBBYDT128F14805B4  TRBBYDT128F14805B4\n",
       "31030  TRBBYVD128F931AE0C  TRBBYVD128F931AE0C\n",
       "31031  TRBBSFX128F426D4A1  TRBBSFX128F426D4A1\n",
       "31032  TRBBSDR12903CAE89C  TRBBSDR12903CAE89C\n",
       "31033  TRBBBWR12903CEE1D4  TRBBBWR12903CEE1D4\n",
       "\n",
       "[31034 rows x 2 columns]"
      ]
     },
     "execution_count": 51,
     "metadata": {},
     "output_type": "execute_result"
    }
   ],
   "source": [
    "midi['key'] = midi['msd_track_id']\n",
    "midi"
   ]
  },
  {
   "cell_type": "code",
   "execution_count": 110,
   "metadata": {},
   "outputs": [
    {
     "data": {
      "text/html": [
       "<div>\n",
       "<style scoped>\n",
       "    .dataframe tbody tr th:only-of-type {\n",
       "        vertical-align: middle;\n",
       "    }\n",
       "\n",
       "    .dataframe tbody tr th {\n",
       "        vertical-align: top;\n",
       "    }\n",
       "\n",
       "    .dataframe thead th {\n",
       "        text-align: right;\n",
       "    }\n",
       "</style>\n",
       "<table border=\"1\" class=\"dataframe\">\n",
       "  <thead>\n",
       "    <tr style=\"text-align: right;\">\n",
       "      <th></th>\n",
       "      <th>msd_track_id</th>\n",
       "      <th>path</th>\n",
       "    </tr>\n",
       "  </thead>\n",
       "  <tbody>\n",
       "    <tr>\n",
       "      <th>TRJJJCW128F42218C7</th>\n",
       "      <td>TRJJJCW128F42218C7</td>\n",
       "      <td>../../../Temporary/lastfm_train/J/J/J/TRJJJCW1...</td>\n",
       "    </tr>\n",
       "    <tr>\n",
       "      <th>TRJJJAM128F425C444</th>\n",
       "      <td>TRJJJAM128F425C444</td>\n",
       "      <td>../../../Temporary/lastfm_train/J/J/J/TRJJJAM1...</td>\n",
       "    </tr>\n",
       "    <tr>\n",
       "      <th>TRJJNTK128F4297ADE</th>\n",
       "      <td>TRJJNTK128F4297ADE</td>\n",
       "      <td>../../../Temporary/lastfm_train/J/J/N/TRJJNTK1...</td>\n",
       "    </tr>\n",
       "    <tr>\n",
       "      <th>TRJJRTB128F92D0791</th>\n",
       "      <td>TRJJRTB128F92D0791</td>\n",
       "      <td>../../../Temporary/lastfm_train/J/J/R/TRJJRTB1...</td>\n",
       "    </tr>\n",
       "    <tr>\n",
       "      <th>TRJJHZT128F426E985</th>\n",
       "      <td>TRJJHZT128F426E985</td>\n",
       "      <td>../../../Temporary/lastfm_train/J/J/H/TRJJHZT1...</td>\n",
       "    </tr>\n",
       "    <tr>\n",
       "      <th>...</th>\n",
       "      <td>...</td>\n",
       "      <td>...</td>\n",
       "    </tr>\n",
       "    <tr>\n",
       "      <th>TRBBIHP128F92E40CA</th>\n",
       "      <td>TRBBIHP128F92E40CA</td>\n",
       "      <td>../../../Temporary/lastfm_train/B/B/I/TRBBIHP1...</td>\n",
       "    </tr>\n",
       "    <tr>\n",
       "      <th>TRBBYDT128F14805B4</th>\n",
       "      <td>TRBBYDT128F14805B4</td>\n",
       "      <td>../../../Temporary/lastfm_train/B/B/Y/TRBBYDT1...</td>\n",
       "    </tr>\n",
       "    <tr>\n",
       "      <th>TRBBYVD128F931AE0C</th>\n",
       "      <td>TRBBYVD128F931AE0C</td>\n",
       "      <td>../../../Temporary/lastfm_train/B/B/Y/TRBBYVD1...</td>\n",
       "    </tr>\n",
       "    <tr>\n",
       "      <th>TRBBSFX128F426D4A1</th>\n",
       "      <td>TRBBSFX128F426D4A1</td>\n",
       "      <td>../../../Temporary/lastfm_train/B/B/S/TRBBSFX1...</td>\n",
       "    </tr>\n",
       "    <tr>\n",
       "      <th>TRBBSDR12903CAE89C</th>\n",
       "      <td>TRBBSDR12903CAE89C</td>\n",
       "      <td>../../../Temporary/lastfm_train/B/B/S/TRBBSDR1...</td>\n",
       "    </tr>\n",
       "  </tbody>\n",
       "</table>\n",
       "<p>26217 rows × 2 columns</p>\n",
       "</div>"
      ],
      "text/plain": [
       "                          msd_track_id  \\\n",
       "TRJJJCW128F42218C7  TRJJJCW128F42218C7   \n",
       "TRJJJAM128F425C444  TRJJJAM128F425C444   \n",
       "TRJJNTK128F4297ADE  TRJJNTK128F4297ADE   \n",
       "TRJJRTB128F92D0791  TRJJRTB128F92D0791   \n",
       "TRJJHZT128F426E985  TRJJHZT128F426E985   \n",
       "...                                ...   \n",
       "TRBBIHP128F92E40CA  TRBBIHP128F92E40CA   \n",
       "TRBBYDT128F14805B4  TRBBYDT128F14805B4   \n",
       "TRBBYVD128F931AE0C  TRBBYVD128F931AE0C   \n",
       "TRBBSFX128F426D4A1  TRBBSFX128F426D4A1   \n",
       "TRBBSDR12903CAE89C  TRBBSDR12903CAE89C   \n",
       "\n",
       "                                                                 path  \n",
       "TRJJJCW128F42218C7  ../../../Temporary/lastfm_train/J/J/J/TRJJJCW1...  \n",
       "TRJJJAM128F425C444  ../../../Temporary/lastfm_train/J/J/J/TRJJJAM1...  \n",
       "TRJJNTK128F4297ADE  ../../../Temporary/lastfm_train/J/J/N/TRJJNTK1...  \n",
       "TRJJRTB128F92D0791  ../../../Temporary/lastfm_train/J/J/R/TRJJRTB1...  \n",
       "TRJJHZT128F426E985  ../../../Temporary/lastfm_train/J/J/H/TRJJHZT1...  \n",
       "...                                                               ...  \n",
       "TRBBIHP128F92E40CA  ../../../Temporary/lastfm_train/B/B/I/TRBBIHP1...  \n",
       "TRBBYDT128F14805B4  ../../../Temporary/lastfm_train/B/B/Y/TRBBYDT1...  \n",
       "TRBBYVD128F931AE0C  ../../../Temporary/lastfm_train/B/B/Y/TRBBYVD1...  \n",
       "TRBBSFX128F426D4A1  ../../../Temporary/lastfm_train/B/B/S/TRBBSFX1...  \n",
       "TRBBSDR12903CAE89C  ../../../Temporary/lastfm_train/B/B/S/TRBBSDR1...  \n",
       "\n",
       "[26217 rows x 2 columns]"
      ]
     },
     "execution_count": 110,
     "metadata": {},
     "output_type": "execute_result"
    }
   ],
   "source": [
    "tracked = midi.set_index('key').join(midi_path_df.set_index('msd_track_id'),how='inner')\n",
    "tracked"
   ]
  },
  {
   "cell_type": "code",
   "execution_count": 60,
   "metadata": {},
   "outputs": [],
   "source": [
    "genres = ['Blues', 'Country', 'Electronic', 'Folk', 'Jazz', 'Latin', 'Metal',\n",
    "       'New Age', 'Pop', 'Punk', 'Rap', 'Reggae', 'RnB', 'Rock', 'World']\n",
    "genres = [genre.lower() for genre in genres]"
   ]
  },
  {
   "cell_type": "code",
   "execution_count": 79,
   "metadata": {},
   "outputs": [
    {
     "name": "stdout",
     "output_type": "stream",
     "text": [
      "0:rock\n",
      "1000:country\n",
      "2000:rock\n",
      "3000:pop\n",
      "4000:country\n"
     ]
    }
   ],
   "source": [
    "genre_tagged = pd.DataFrame(columns=['track_id','title','artist','genre'])\n",
    "idx = 0\n",
    "for id_ in tracked['msd_track_id'].tolist():\n",
    "    try:\n",
    "        with open(midi_path[id_]) as file:\n",
    "          sampleJSON = json.load(file)\n",
    "        for tag in sampleJSON['tags'][0]:\n",
    "          if tag.lower() in genres:\n",
    "            if idx%1000 == 0:\n",
    "              print(f'{idx}:{tag}')\n",
    "            genre_tagged.loc[idx] = [sampleJSON['track_id'],sampleJSON['title'],sampleJSON['artist'],tag.lower()]\n",
    "            idx += 1\n",
    "            break\n",
    "    except:\n",
    "        pass"
   ]
  },
  {
   "cell_type": "code",
   "execution_count": 113,
   "metadata": {},
   "outputs": [
    {
     "data": {
      "text/html": [
       "<div>\n",
       "<style scoped>\n",
       "    .dataframe tbody tr th:only-of-type {\n",
       "        vertical-align: middle;\n",
       "    }\n",
       "\n",
       "    .dataframe tbody tr th {\n",
       "        vertical-align: top;\n",
       "    }\n",
       "\n",
       "    .dataframe thead th {\n",
       "        text-align: right;\n",
       "    }\n",
       "</style>\n",
       "<table border=\"1\" class=\"dataframe\">\n",
       "  <thead>\n",
       "    <tr style=\"text-align: right;\">\n",
       "      <th></th>\n",
       "      <th>track_id</th>\n",
       "    </tr>\n",
       "    <tr>\n",
       "      <th>genre</th>\n",
       "      <th></th>\n",
       "    </tr>\n",
       "  </thead>\n",
       "  <tbody>\n",
       "    <tr>\n",
       "      <th>blues</th>\n",
       "      <td>52</td>\n",
       "    </tr>\n",
       "    <tr>\n",
       "      <th>country</th>\n",
       "      <td>732</td>\n",
       "    </tr>\n",
       "    <tr>\n",
       "      <th>electronic</th>\n",
       "      <td>214</td>\n",
       "    </tr>\n",
       "    <tr>\n",
       "      <th>folk</th>\n",
       "      <td>103</td>\n",
       "    </tr>\n",
       "    <tr>\n",
       "      <th>jazz</th>\n",
       "      <td>171</td>\n",
       "    </tr>\n",
       "    <tr>\n",
       "      <th>latin</th>\n",
       "      <td>102</td>\n",
       "    </tr>\n",
       "    <tr>\n",
       "      <th>metal</th>\n",
       "      <td>56</td>\n",
       "    </tr>\n",
       "    <tr>\n",
       "      <th>new age</th>\n",
       "      <td>60</td>\n",
       "    </tr>\n",
       "    <tr>\n",
       "      <th>pop</th>\n",
       "      <td>1384</td>\n",
       "    </tr>\n",
       "    <tr>\n",
       "      <th>punk</th>\n",
       "      <td>56</td>\n",
       "    </tr>\n",
       "    <tr>\n",
       "      <th>rap</th>\n",
       "      <td>78</td>\n",
       "    </tr>\n",
       "    <tr>\n",
       "      <th>reggae</th>\n",
       "      <td>71</td>\n",
       "    </tr>\n",
       "    <tr>\n",
       "      <th>rnb</th>\n",
       "      <td>153</td>\n",
       "    </tr>\n",
       "    <tr>\n",
       "      <th>rock</th>\n",
       "      <td>1132</td>\n",
       "    </tr>\n",
       "    <tr>\n",
       "      <th>world</th>\n",
       "      <td>6</td>\n",
       "    </tr>\n",
       "  </tbody>\n",
       "</table>\n",
       "</div>"
      ],
      "text/plain": [
       "            track_id\n",
       "genre               \n",
       "blues             52\n",
       "country          732\n",
       "electronic       214\n",
       "folk             103\n",
       "jazz             171\n",
       "latin            102\n",
       "metal             56\n",
       "new age           60\n",
       "pop             1384\n",
       "punk              56\n",
       "rap               78\n",
       "reggae            71\n",
       "rnb              153\n",
       "rock            1132\n",
       "world              6"
      ]
     },
     "execution_count": 113,
     "metadata": {},
     "output_type": "execute_result"
    }
   ],
   "source": [
    "genre_tagged.groupby('genre').agg({'track_id':'count'})"
   ]
  },
  {
   "cell_type": "code",
   "execution_count": 96,
   "metadata": {},
   "outputs": [],
   "source": [
    "album_image = pd.read_csv(f'{path}album_image.csv')\n",
    "album_image = album_image.drop(['Unnamed: 0'],axis=1)\n",
    "album_image['genre'] = album_image['genre'].apply(to_lower)\n"
   ]
  },
  {
   "cell_type": "code",
   "execution_count": 98,
   "metadata": {},
   "outputs": [],
   "source": [
    "album_image['key'] = album_image['genre']"
   ]
  },
  {
   "cell_type": "code",
   "execution_count": 115,
   "metadata": {},
   "outputs": [],
   "source": [
    "genre_tagged.to_csv(f'{path}MIDI_with_Genre.csv')"
   ]
  },
  {
   "cell_type": "code",
   "execution_count": 116,
   "metadata": {},
   "outputs": [],
   "source": [
    "overall_data = album_image.loc[:,['key','genre','image_url',]].set_index('key').join(genre_tagged.set_index('genre'))"
   ]
  },
  {
   "cell_type": "code",
   "execution_count": 118,
   "metadata": {},
   "outputs": [],
   "source": [
    "overall_data.to_csv(f'{path}Overall_data.csv')"
   ]
  },
  {
   "cell_type": "code",
   "execution_count": 119,
   "metadata": {},
   "outputs": [
    {
     "data": {
      "text/html": [
       "<div>\n",
       "<style scoped>\n",
       "    .dataframe tbody tr th:only-of-type {\n",
       "        vertical-align: middle;\n",
       "    }\n",
       "\n",
       "    .dataframe tbody tr th {\n",
       "        vertical-align: top;\n",
       "    }\n",
       "\n",
       "    .dataframe thead th {\n",
       "        text-align: right;\n",
       "    }\n",
       "</style>\n",
       "<table border=\"1\" class=\"dataframe\">\n",
       "  <thead>\n",
       "    <tr style=\"text-align: right;\">\n",
       "      <th></th>\n",
       "      <th>genre</th>\n",
       "      <th>image_url</th>\n",
       "      <th>track_id</th>\n",
       "      <th>title</th>\n",
       "      <th>artist</th>\n",
       "    </tr>\n",
       "  </thead>\n",
       "  <tbody>\n",
       "    <tr>\n",
       "      <th>blues</th>\n",
       "      <td>blues</td>\n",
       "      <td>http://artwork-cdn.7static.com/static/img/slee...</td>\n",
       "      <td>TRJSRUH128F92E5A6F</td>\n",
       "      <td>Little Wing</td>\n",
       "      <td>Stevie Ray Vaughan</td>\n",
       "    </tr>\n",
       "    <tr>\n",
       "      <th>blues</th>\n",
       "      <td>blues</td>\n",
       "      <td>http://artwork-cdn.7static.com/static/img/slee...</td>\n",
       "      <td>TRNQXYY12903D02EB7</td>\n",
       "      <td>Cold Shot</td>\n",
       "      <td>The Johnny Otis Show</td>\n",
       "    </tr>\n",
       "    <tr>\n",
       "      <th>blues</th>\n",
       "      <td>blues</td>\n",
       "      <td>http://artwork-cdn.7static.com/static/img/slee...</td>\n",
       "      <td>TRNZCKD128EF34942B</td>\n",
       "      <td>What A Wonderful World</td>\n",
       "      <td>B.B. King</td>\n",
       "    </tr>\n",
       "    <tr>\n",
       "      <th>blues</th>\n",
       "      <td>blues</td>\n",
       "      <td>http://artwork-cdn.7static.com/static/img/slee...</td>\n",
       "      <td>TRNINPZ128F9320188</td>\n",
       "      <td>Going Back to Miami</td>\n",
       "      <td>The Blues Brothers</td>\n",
       "    </tr>\n",
       "    <tr>\n",
       "      <th>blues</th>\n",
       "      <td>blues</td>\n",
       "      <td>http://artwork-cdn.7static.com/static/img/slee...</td>\n",
       "      <td>TRRGBTU128E078B046</td>\n",
       "      <td>Moondance (Album Version)</td>\n",
       "      <td>Van Morrison</td>\n",
       "    </tr>\n",
       "    <tr>\n",
       "      <th>...</th>\n",
       "      <td>...</td>\n",
       "      <td>...</td>\n",
       "      <td>...</td>\n",
       "      <td>...</td>\n",
       "      <td>...</td>\n",
       "    </tr>\n",
       "    <tr>\n",
       "      <th>world</th>\n",
       "      <td>world</td>\n",
       "      <td>http://artwork-cdn.7static.com/static/img/slee...</td>\n",
       "      <td>TRJGIAM128F425529B</td>\n",
       "      <td>Tonti</td>\n",
       "      <td>Vusi Mahlasela</td>\n",
       "    </tr>\n",
       "    <tr>\n",
       "      <th>world</th>\n",
       "      <td>world</td>\n",
       "      <td>http://artwork-cdn.7static.com/static/img/slee...</td>\n",
       "      <td>TRJIWUT128F4252268</td>\n",
       "      <td>Chelsea Burns</td>\n",
       "      <td>Keren Ann</td>\n",
       "    </tr>\n",
       "    <tr>\n",
       "      <th>world</th>\n",
       "      <td>world</td>\n",
       "      <td>http://artwork-cdn.7static.com/static/img/slee...</td>\n",
       "      <td>TRMEBGS128F42B7C5A</td>\n",
       "      <td>Dabah</td>\n",
       "      <td>Ismaël Lô</td>\n",
       "    </tr>\n",
       "    <tr>\n",
       "      <th>world</th>\n",
       "      <td>world</td>\n",
       "      <td>http://artwork-cdn.7static.com/static/img/slee...</td>\n",
       "      <td>TRQURFG128F4295001</td>\n",
       "      <td>Dolce Di Giorno</td>\n",
       "      <td>Lucio Battisti</td>\n",
       "    </tr>\n",
       "    <tr>\n",
       "      <th>world</th>\n",
       "      <td>world</td>\n",
       "      <td>http://artwork-cdn.7static.com/static/img/slee...</td>\n",
       "      <td>TRSEKQX12903CDCD8C</td>\n",
       "      <td>L'alouette - roumanie</td>\n",
       "      <td>Les Yeux Noirs</td>\n",
       "    </tr>\n",
       "  </tbody>\n",
       "</table>\n",
       "<p>8827157 rows × 5 columns</p>\n",
       "</div>"
      ],
      "text/plain": [
       "       genre                                          image_url  \\\n",
       "blues  blues  http://artwork-cdn.7static.com/static/img/slee...   \n",
       "blues  blues  http://artwork-cdn.7static.com/static/img/slee...   \n",
       "blues  blues  http://artwork-cdn.7static.com/static/img/slee...   \n",
       "blues  blues  http://artwork-cdn.7static.com/static/img/slee...   \n",
       "blues  blues  http://artwork-cdn.7static.com/static/img/slee...   \n",
       "...      ...                                                ...   \n",
       "world  world  http://artwork-cdn.7static.com/static/img/slee...   \n",
       "world  world  http://artwork-cdn.7static.com/static/img/slee...   \n",
       "world  world  http://artwork-cdn.7static.com/static/img/slee...   \n",
       "world  world  http://artwork-cdn.7static.com/static/img/slee...   \n",
       "world  world  http://artwork-cdn.7static.com/static/img/slee...   \n",
       "\n",
       "                 track_id                      title                artist  \n",
       "blues  TRJSRUH128F92E5A6F                Little Wing    Stevie Ray Vaughan  \n",
       "blues  TRNQXYY12903D02EB7                  Cold Shot  The Johnny Otis Show  \n",
       "blues  TRNZCKD128EF34942B     What A Wonderful World             B.B. King  \n",
       "blues  TRNINPZ128F9320188        Going Back to Miami    The Blues Brothers  \n",
       "blues  TRRGBTU128E078B046  Moondance (Album Version)          Van Morrison  \n",
       "...                   ...                        ...                   ...  \n",
       "world  TRJGIAM128F425529B                      Tonti        Vusi Mahlasela  \n",
       "world  TRJIWUT128F4252268              Chelsea Burns             Keren Ann  \n",
       "world  TRMEBGS128F42B7C5A                      Dabah             Ismaël Lô  \n",
       "world  TRQURFG128F4295001            Dolce Di Giorno        Lucio Battisti  \n",
       "world  TRSEKQX12903CDCD8C      L'alouette - roumanie        Les Yeux Noirs  \n",
       "\n",
       "[8827157 rows x 5 columns]"
      ]
     },
     "execution_count": 119,
     "metadata": {},
     "output_type": "execute_result"
    }
   ],
   "source": [
    "overall_data"
   ]
  },
  {
   "cell_type": "code",
   "execution_count": null,
   "metadata": {},
   "outputs": [],
   "source": []
  }
 ],
 "metadata": {
  "kernelspec": {
   "display_name": "Python 3",
   "language": "python",
   "name": "python3"
  },
  "language_info": {
   "codemirror_mode": {
    "name": "ipython",
    "version": 3
   },
   "file_extension": ".py",
   "mimetype": "text/x-python",
   "name": "python",
   "nbconvert_exporter": "python",
   "pygments_lexer": "ipython3",
   "version": "3.7.6"
  }
 },
 "nbformat": 4,
 "nbformat_minor": 4
}
