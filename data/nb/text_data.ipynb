{
 "cells": [
  {
   "cell_type": "code",
   "execution_count": 1,
   "metadata": {},
   "outputs": [],
   "source": [
    "import multiprocessing\n",
    "import pandas as pd\n",
    "import numpy as np\n",
    "import requests\n",
    "import time\n",
    "import os"
   ]
  },
  {
   "cell_type": "code",
   "execution_count": 2,
   "metadata": {},
   "outputs": [],
   "source": [
    "dataset = pd.read_csv('../../../data/metadata/MIDI_with_Genre.csv')\n",
    "save_path = '../../../lyrics/'\n",
    "extension = \".txt\""
   ]
  },
  {
   "cell_type": "code",
   "execution_count": 2,
   "metadata": {},
   "outputs": [
    {
     "data": {
      "text/html": [
       "<div>\n",
       "<style scoped>\n",
       "    .dataframe tbody tr th:only-of-type {\n",
       "        vertical-align: middle;\n",
       "    }\n",
       "\n",
       "    .dataframe tbody tr th {\n",
       "        vertical-align: top;\n",
       "    }\n",
       "\n",
       "    .dataframe thead th {\n",
       "        text-align: right;\n",
       "    }\n",
       "</style>\n",
       "<table border=\"1\" class=\"dataframe\">\n",
       "  <thead>\n",
       "    <tr style=\"text-align: right;\">\n",
       "      <th></th>\n",
       "      <th>title</th>\n",
       "      <th>artist</th>\n",
       "      <th>genre</th>\n",
       "    </tr>\n",
       "    <tr>\n",
       "      <th>msd_track_id</th>\n",
       "      <th></th>\n",
       "      <th></th>\n",
       "      <th></th>\n",
       "    </tr>\n",
       "  </thead>\n",
       "  <tbody>\n",
       "    <tr>\n",
       "      <th>TRJJHFE128EF3518FD</th>\n",
       "      <td>I Don't Need</td>\n",
       "      <td>The Cranberries</td>\n",
       "      <td>rock</td>\n",
       "    </tr>\n",
       "    <tr>\n",
       "      <th>TRJJWLJ128F428AD88</th>\n",
       "      <td>Wild Angels</td>\n",
       "      <td>Martina McBride</td>\n",
       "      <td>country</td>\n",
       "    </tr>\n",
       "    <tr>\n",
       "      <th>TRJJXWI128F426BD83</th>\n",
       "      <td>Does Your Mother Know</td>\n",
       "      <td>Abba</td>\n",
       "      <td>pop</td>\n",
       "    </tr>\n",
       "    <tr>\n",
       "      <th>TRJNJWG128F92CFCB8</th>\n",
       "      <td>Psicopata</td>\n",
       "      <td>Capital Inicial</td>\n",
       "      <td>rock</td>\n",
       "    </tr>\n",
       "    <tr>\n",
       "      <th>TRJNRLV128E078D015</th>\n",
       "      <td>I Love The Way You Love Me  (Remastered LP Ver...</td>\n",
       "      <td>John Michael Montgomery</td>\n",
       "      <td>country</td>\n",
       "    </tr>\n",
       "    <tr>\n",
       "      <th>...</th>\n",
       "      <td>...</td>\n",
       "      <td>...</td>\n",
       "      <td>...</td>\n",
       "    </tr>\n",
       "    <tr>\n",
       "      <th>TRBBQPP128F92EE611</th>\n",
       "      <td>Three Little Birds</td>\n",
       "      <td>Bob Marley &amp; The Wailers</td>\n",
       "      <td>reggae</td>\n",
       "    </tr>\n",
       "    <tr>\n",
       "      <th>TRBBAEQ128F42B18B9</th>\n",
       "      <td>When You Love A Woman</td>\n",
       "      <td>Journey</td>\n",
       "      <td>rock</td>\n",
       "    </tr>\n",
       "    <tr>\n",
       "      <th>TRBBAIU128F92F3FB3</th>\n",
       "      <td>Bridge Over Troubled Water</td>\n",
       "      <td>Simon &amp; Garfunkel</td>\n",
       "      <td>folk</td>\n",
       "    </tr>\n",
       "    <tr>\n",
       "      <th>TRBBEVP128F146ECF8</th>\n",
       "      <td>Waterloo</td>\n",
       "      <td>Abba</td>\n",
       "      <td>pop</td>\n",
       "    </tr>\n",
       "    <tr>\n",
       "      <th>TRBBSDR12903CAE89C</th>\n",
       "      <td>Mundo Mágico</td>\n",
       "      <td>Dr. Sapo</td>\n",
       "      <td>rock</td>\n",
       "    </tr>\n",
       "  </tbody>\n",
       "</table>\n",
       "<p>4370 rows × 3 columns</p>\n",
       "</div>"
      ],
      "text/plain": [
       "                                                                title  \\\n",
       "msd_track_id                                                            \n",
       "TRJJHFE128EF3518FD                                       I Don't Need   \n",
       "TRJJWLJ128F428AD88                                        Wild Angels   \n",
       "TRJJXWI128F426BD83                              Does Your Mother Know   \n",
       "TRJNJWG128F92CFCB8                                          Psicopata   \n",
       "TRJNRLV128E078D015  I Love The Way You Love Me  (Remastered LP Ver...   \n",
       "...                                                               ...   \n",
       "TRBBQPP128F92EE611                                 Three Little Birds   \n",
       "TRBBAEQ128F42B18B9                              When You Love A Woman   \n",
       "TRBBAIU128F92F3FB3                         Bridge Over Troubled Water   \n",
       "TRBBEVP128F146ECF8                                           Waterloo   \n",
       "TRBBSDR12903CAE89C                                       Mundo Mágico   \n",
       "\n",
       "                                      artist    genre  \n",
       "msd_track_id                                           \n",
       "TRJJHFE128EF3518FD           The Cranberries     rock  \n",
       "TRJJWLJ128F428AD88           Martina McBride  country  \n",
       "TRJJXWI128F426BD83                      Abba      pop  \n",
       "TRJNJWG128F92CFCB8           Capital Inicial     rock  \n",
       "TRJNRLV128E078D015   John Michael Montgomery  country  \n",
       "...                                      ...      ...  \n",
       "TRBBQPP128F92EE611  Bob Marley & The Wailers   reggae  \n",
       "TRBBAEQ128F42B18B9                   Journey     rock  \n",
       "TRBBAIU128F92F3FB3         Simon & Garfunkel     folk  \n",
       "TRBBEVP128F146ECF8                      Abba      pop  \n",
       "TRBBSDR12903CAE89C                  Dr. Sapo     rock  \n",
       "\n",
       "[4370 rows x 3 columns]"
      ]
     },
     "execution_count": 2,
     "metadata": {},
     "output_type": "execute_result"
    }
   ],
   "source": [
    "midi = pd.read_csv('../../../data/metadata/MIDI_with_Genre.csv')\n",
    "midi['msd_track_id'] = midi['track_id']\n",
    "midi = midi.drop('track_id',axis=1).set_index('msd_track_id')\n",
    "midi"
   ]
  },
  {
   "cell_type": "code",
   "execution_count": 3,
   "metadata": {},
   "outputs": [
    {
     "data": {
      "text/html": [
       "<div>\n",
       "<style scoped>\n",
       "    .dataframe tbody tr th:only-of-type {\n",
       "        vertical-align: middle;\n",
       "    }\n",
       "\n",
       "    .dataframe tbody tr th {\n",
       "        vertical-align: top;\n",
       "    }\n",
       "\n",
       "    .dataframe thead th {\n",
       "        text-align: right;\n",
       "    }\n",
       "</style>\n",
       "<table border=\"1\" class=\"dataframe\">\n",
       "  <thead>\n",
       "    <tr style=\"text-align: right;\">\n",
       "      <th></th>\n",
       "      <th>Unnamed: 0</th>\n",
       "      <th>track_id</th>\n",
       "      <th>title</th>\n",
       "      <th>artist</th>\n",
       "      <th>genre</th>\n",
       "    </tr>\n",
       "  </thead>\n",
       "  <tbody>\n",
       "    <tr>\n",
       "      <th>0</th>\n",
       "      <td>0</td>\n",
       "      <td>TRJJHFE128EF3518FD</td>\n",
       "      <td>I Don't Need</td>\n",
       "      <td>The Cranberries</td>\n",
       "      <td>rock</td>\n",
       "    </tr>\n",
       "    <tr>\n",
       "      <th>1</th>\n",
       "      <td>1</td>\n",
       "      <td>TRJJWLJ128F428AD88</td>\n",
       "      <td>Wild Angels</td>\n",
       "      <td>Martina McBride</td>\n",
       "      <td>country</td>\n",
       "    </tr>\n",
       "    <tr>\n",
       "      <th>2</th>\n",
       "      <td>2</td>\n",
       "      <td>TRJJXWI128F426BD83</td>\n",
       "      <td>Does Your Mother Know</td>\n",
       "      <td>Abba</td>\n",
       "      <td>pop</td>\n",
       "    </tr>\n",
       "    <tr>\n",
       "      <th>3</th>\n",
       "      <td>3</td>\n",
       "      <td>TRJNJWG128F92CFCB8</td>\n",
       "      <td>Psicopata</td>\n",
       "      <td>Capital Inicial</td>\n",
       "      <td>rock</td>\n",
       "    </tr>\n",
       "    <tr>\n",
       "      <th>4</th>\n",
       "      <td>4</td>\n",
       "      <td>TRJNRLV128E078D015</td>\n",
       "      <td>I Love The Way You Love Me  (Remastered LP Ver...</td>\n",
       "      <td>John Michael Montgomery</td>\n",
       "      <td>country</td>\n",
       "    </tr>\n",
       "  </tbody>\n",
       "</table>\n",
       "</div>"
      ],
      "text/plain": [
       "   Unnamed: 0            track_id  \\\n",
       "0           0  TRJJHFE128EF3518FD   \n",
       "1           1  TRJJWLJ128F428AD88   \n",
       "2           2  TRJJXWI128F426BD83   \n",
       "3           3  TRJNJWG128F92CFCB8   \n",
       "4           4  TRJNRLV128E078D015   \n",
       "\n",
       "                                               title                   artist  \\\n",
       "0                                       I Don't Need          The Cranberries   \n",
       "1                                        Wild Angels          Martina McBride   \n",
       "2                              Does Your Mother Know                     Abba   \n",
       "3                                          Psicopata          Capital Inicial   \n",
       "4  I Love The Way You Love Me  (Remastered LP Ver...  John Michael Montgomery   \n",
       "\n",
       "     genre  \n",
       "0     rock  \n",
       "1  country  \n",
       "2      pop  \n",
       "3     rock  \n",
       "4  country  "
      ]
     },
     "execution_count": 3,
     "metadata": {},
     "output_type": "execute_result"
    }
   ],
   "source": [
    "dataset.head()"
   ]
  },
  {
   "cell_type": "code",
   "execution_count": 4,
   "metadata": {},
   "outputs": [],
   "source": [
    "# !pip install lyricsgenius"
   ]
  },
  {
   "cell_type": "code",
   "execution_count": 5,
   "metadata": {},
   "outputs": [],
   "source": [
    "# library import and setting up the api auth code\n",
    "\n",
    "import lyricsgenius\n",
    "genius = lyricsgenius.Genius(\"z3kr--25YhkkXScS7S66RXqG-hVSrx4W2zWpTT6RFICAfavs7-sq1IhWrIuHd3Dc\")\n"
   ]
  },
  {
   "cell_type": "code",
   "execution_count": 6,
   "metadata": {},
   "outputs": [],
   "source": [
    "found_lyric = []\n",
    "def lyrics_scrapper(song):\n",
    "#     try:\n",
    "    song_ = genius.search_song(song[1],song[2])\n",
    "    if not song_: return\n",
    "    lyric = song_.lyrics\n",
    "    if lyric:\n",
    "        print(f'saving to file {save_path}{song[0]}.txt...')\n",
    "        with open(f'{save_path}{song[0]}.txt','w') as file:\n",
    "            file.write(lyric)\n",
    "        found_lyric.append(song[0])"
   ]
  },
  {
   "cell_type": "code",
   "execution_count": 7,
   "metadata": {},
   "outputs": [],
   "source": [
    "data = dataset.iloc[:,1:4]\n",
    "data = data.to_numpy().tolist()"
   ]
  },
  {
   "cell_type": "code",
   "execution_count": 8,
   "metadata": {},
   "outputs": [],
   "source": [
    "# data[::-1]"
   ]
  },
  {
   "cell_type": "code",
   "execution_count": 3,
   "metadata": {},
   "outputs": [],
   "source": [
    "pool = multiprocessing.Pool() \n",
    "pool = multiprocessing.Pool(processes=os.cpu_count())\n",
    "pool.map(lyrics_scrapper, data)"
   ]
  },
  {
   "cell_type": "markdown",
   "metadata": {},
   "source": [
    "# merge lyrics and midi metadata"
   ]
  },
  {
   "cell_type": "code",
   "execution_count": null,
   "metadata": {},
   "outputs": [],
   "source": [
    "lyrics = os.listdir('../../../data/text')\n",
    "lyrics = [lyric[:-4] for lyric in lyrics]\n",
    "lyrics.sort()\n",
    "lyrics = lyrics[1:]"
   ]
  },
  {
   "cell_type": "code",
   "execution_count": null,
   "metadata": {},
   "outputs": [],
   "source": [
    "lyrics_df = pd.DataFrame(np.array([lyrics,lyrics]).T,columns=['index','msd_track_id']).set_index('index')\n",
    "lyrics_df"
   ]
  },
  {
   "cell_type": "code",
   "execution_count": null,
   "metadata": {},
   "outputs": [],
   "source": [
    "lyrics_midi_data = lyrics_df.join(midi,how='inner')\n",
    "lyrics_midi_data.to_csv('../../../data/metadata/lyrics_midi_data.csv',index=False)"
   ]
  },
  {
   "cell_type": "code",
   "execution_count": null,
   "metadata": {},
   "outputs": [],
   "source": [
    "lyrics_midi_data.groupby('genre').agg({'msd_track_id':'count'}).to_csv('../../../data/metadata/genrewise_data.csv')"
   ]
  },
  {
   "cell_type": "code",
   "execution_count": null,
   "metadata": {},
   "outputs": [],
   "source": []
  }
 ],
 "metadata": {
  "kernelspec": {
   "display_name": "Python 3",
   "language": "python",
   "name": "python3"
  },
  "language_info": {
   "codemirror_mode": {
    "name": "ipython",
    "version": 3
   },
   "file_extension": ".py",
   "mimetype": "text/x-python",
   "name": "python",
   "nbconvert_exporter": "python",
   "pygments_lexer": "ipython3",
   "version": "3.7.6"
  }
 },
 "nbformat": 4,
 "nbformat_minor": 4
}
